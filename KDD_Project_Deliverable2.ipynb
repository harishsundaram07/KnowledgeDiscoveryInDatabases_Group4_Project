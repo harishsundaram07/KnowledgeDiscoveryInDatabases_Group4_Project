{
  "nbformat": 4,
  "nbformat_minor": 0,
  "metadata": {
    "colab": {
      "name": "KDD_Project_Deliverable2.ipynb",
      "provenance": [],
      "collapsed_sections": [],
      "include_colab_link": true
    },
    "kernelspec": {
      "name": "python3",
      "display_name": "Python 3"
    },
    "language_info": {
      "name": "python"
    }
  },
  "cells": [
    {
      "cell_type": "markdown",
      "metadata": {
        "id": "view-in-github",
        "colab_type": "text"
      },
      "source": [
        "<a href=\"https://colab.research.google.com/github/harishsundaram07/KnowledgeDiscoveryInDatabases_Group4_Project/blob/main/KDD_Project_Deliverable2.ipynb\" target=\"_parent\"><img src=\"https://colab.research.google.com/assets/colab-badge.svg\" alt=\"Open In Colab\"/></a>"
      ]
    },
    {
      "cell_type": "markdown",
      "metadata": {
        "id": "k9qpYpEIVXkm"
      },
      "source": [
        "Group 4:\n",
        "\n",
        "\n",
        "1.  Harikrishnan Sundaram\n",
        "2.  Malhar Joshi\n",
        "3. Yash Chaudhari\n",
        "4. Dhruv Jani\n",
        "\n",
        "\n",
        "Export the zip file and place all the dataset in the directory.\n",
        "\n"
      ]
    },
    {
      "cell_type": "markdown",
      "metadata": {
        "id": "puzHfuov6LWi"
      },
      "source": [
        "# Importing all necessary libraries"
      ]
    },
    {
      "cell_type": "code",
      "metadata": {
        "id": "aoojlZTXgOLn"
      },
      "source": [
        "import pandas as pd\n",
        "from glob import glob"
      ],
      "execution_count": null,
      "outputs": []
    },
    {
      "cell_type": "markdown",
      "metadata": {
        "id": "TAmj43vRVgrX"
      },
      "source": [
        "reading all the datafiles for the male players"
      ]
    },
    {
      "cell_type": "code",
      "metadata": {
        "id": "dYmPvdWqQHXp"
      },
      "source": [
        "male_files = glob(\"atp*\")"
      ],
      "execution_count": null,
      "outputs": []
    },
    {
      "cell_type": "code",
      "metadata": {
        "colab": {
          "base_uri": "https://localhost:8080/"
        },
        "id": "t-ZuWc5cQVvz",
        "outputId": "6e58c6dc-0024-448d-eddf-47d20c8ec55b"
      },
      "source": [
        "male_files"
      ],
      "execution_count": null,
      "outputs": [
        {
          "output_type": "execute_result",
          "data": {
            "text/plain": [
              "[]"
            ]
          },
          "metadata": {},
          "execution_count": 3
        }
      ]
    },
    {
      "cell_type": "markdown",
      "metadata": {
        "id": "TxGXBYO3VmRQ"
      },
      "source": [
        "sorting the datafiles according to the year"
      ]
    },
    {
      "cell_type": "code",
      "metadata": {
        "colab": {
          "base_uri": "https://localhost:8080/"
        },
        "id": "c2toRivWQYLE",
        "outputId": "f894baaf-708e-409d-8827-79909f070fc8"
      },
      "source": [
        "male_files.sort()\n",
        "male_files"
      ],
      "execution_count": null,
      "outputs": [
        {
          "output_type": "execute_result",
          "data": {
            "text/plain": [
              "[]"
            ]
          },
          "metadata": {},
          "execution_count": 4
        }
      ]
    },
    {
      "cell_type": "markdown",
      "metadata": {
        "id": "RC4NBM24Vrbw"
      },
      "source": [
        "concatinating all the male players datafiles into a single dataframe"
      ]
    },
    {
      "cell_type": "code",
      "metadata": {
        "id": "Xk6biZQjQgoT",
        "colab": {
          "base_uri": "https://localhost:8080/",
          "height": 320
        },
        "outputId": "ff1a0195-635a-442e-a216-a65e87558ebc"
      },
      "source": [
        "male_data = pd.concat ((pd.read_csv(file) for file in male_files), ignore_index= True)"
      ],
      "execution_count": null,
      "outputs": [
        {
          "output_type": "error",
          "ename": "ValueError",
          "evalue": "ignored",
          "traceback": [
            "\u001b[0;31m---------------------------------------------------------------------------\u001b[0m",
            "\u001b[0;31mValueError\u001b[0m                                Traceback (most recent call last)",
            "\u001b[0;32m<ipython-input-5-1d79e7ae2298>\u001b[0m in \u001b[0;36m<module>\u001b[0;34m()\u001b[0m\n\u001b[0;32m----> 1\u001b[0;31m \u001b[0mmale_data\u001b[0m \u001b[0;34m=\u001b[0m \u001b[0mpd\u001b[0m\u001b[0;34m.\u001b[0m\u001b[0mconcat\u001b[0m \u001b[0;34m(\u001b[0m\u001b[0;34m(\u001b[0m\u001b[0mpd\u001b[0m\u001b[0;34m.\u001b[0m\u001b[0mread_csv\u001b[0m\u001b[0;34m(\u001b[0m\u001b[0mfile\u001b[0m\u001b[0;34m)\u001b[0m \u001b[0;32mfor\u001b[0m \u001b[0mfile\u001b[0m \u001b[0;32min\u001b[0m \u001b[0mmale_files\u001b[0m\u001b[0;34m)\u001b[0m\u001b[0;34m,\u001b[0m \u001b[0mignore_index\u001b[0m\u001b[0;34m=\u001b[0m \u001b[0;32mTrue\u001b[0m\u001b[0;34m)\u001b[0m\u001b[0;34m\u001b[0m\u001b[0;34m\u001b[0m\u001b[0m\n\u001b[0m",
            "\u001b[0;32m/usr/local/lib/python3.7/dist-packages/pandas/core/reshape/concat.py\u001b[0m in \u001b[0;36mconcat\u001b[0;34m(objs, axis, join, ignore_index, keys, levels, names, verify_integrity, sort, copy)\u001b[0m\n\u001b[1;32m    282\u001b[0m         \u001b[0mverify_integrity\u001b[0m\u001b[0;34m=\u001b[0m\u001b[0mverify_integrity\u001b[0m\u001b[0;34m,\u001b[0m\u001b[0;34m\u001b[0m\u001b[0;34m\u001b[0m\u001b[0m\n\u001b[1;32m    283\u001b[0m         \u001b[0mcopy\u001b[0m\u001b[0;34m=\u001b[0m\u001b[0mcopy\u001b[0m\u001b[0;34m,\u001b[0m\u001b[0;34m\u001b[0m\u001b[0;34m\u001b[0m\u001b[0m\n\u001b[0;32m--> 284\u001b[0;31m         \u001b[0msort\u001b[0m\u001b[0;34m=\u001b[0m\u001b[0msort\u001b[0m\u001b[0;34m,\u001b[0m\u001b[0;34m\u001b[0m\u001b[0;34m\u001b[0m\u001b[0m\n\u001b[0m\u001b[1;32m    285\u001b[0m     )\n\u001b[1;32m    286\u001b[0m \u001b[0;34m\u001b[0m\u001b[0m\n",
            "\u001b[0;32m/usr/local/lib/python3.7/dist-packages/pandas/core/reshape/concat.py\u001b[0m in \u001b[0;36m__init__\u001b[0;34m(self, objs, axis, join, keys, levels, names, ignore_index, verify_integrity, copy, sort)\u001b[0m\n\u001b[1;32m    329\u001b[0m \u001b[0;34m\u001b[0m\u001b[0m\n\u001b[1;32m    330\u001b[0m         \u001b[0;32mif\u001b[0m \u001b[0mlen\u001b[0m\u001b[0;34m(\u001b[0m\u001b[0mobjs\u001b[0m\u001b[0;34m)\u001b[0m \u001b[0;34m==\u001b[0m \u001b[0;36m0\u001b[0m\u001b[0;34m:\u001b[0m\u001b[0;34m\u001b[0m\u001b[0;34m\u001b[0m\u001b[0m\n\u001b[0;32m--> 331\u001b[0;31m             \u001b[0;32mraise\u001b[0m \u001b[0mValueError\u001b[0m\u001b[0;34m(\u001b[0m\u001b[0;34m\"No objects to concatenate\"\u001b[0m\u001b[0;34m)\u001b[0m\u001b[0;34m\u001b[0m\u001b[0;34m\u001b[0m\u001b[0m\n\u001b[0m\u001b[1;32m    332\u001b[0m \u001b[0;34m\u001b[0m\u001b[0m\n\u001b[1;32m    333\u001b[0m         \u001b[0;32mif\u001b[0m \u001b[0mkeys\u001b[0m \u001b[0;32mis\u001b[0m \u001b[0;32mNone\u001b[0m\u001b[0;34m:\u001b[0m\u001b[0;34m\u001b[0m\u001b[0;34m\u001b[0m\u001b[0m\n",
            "\u001b[0;31mValueError\u001b[0m: No objects to concatenate"
          ]
        }
      ]
    },
    {
      "cell_type": "code",
      "metadata": {
        "id": "s9a17am44G1d"
      },
      "source": [
        "from google.colab import drive\n",
        "drive.mount('/content/drive')"
      ],
      "execution_count": null,
      "outputs": []
    },
    {
      "cell_type": "markdown",
      "metadata": {
        "id": "BFKeJ9X9VygO"
      },
      "source": [
        "the final male players dataset:"
      ]
    },
    {
      "cell_type": "code",
      "metadata": {
        "id": "9WjqFLJXRU3P"
      },
      "source": [
        "male_data.head()"
      ],
      "execution_count": null,
      "outputs": []
    },
    {
      "cell_type": "code",
      "metadata": {
        "id": "JXf8kxdmoByJ"
      },
      "source": [
        "male_data.shape"
      ],
      "execution_count": null,
      "outputs": []
    },
    {
      "cell_type": "markdown",
      "metadata": {
        "id": "gwFCX2IpV49V"
      },
      "source": [
        "reading all the datafiles for the female players"
      ]
    },
    {
      "cell_type": "code",
      "metadata": {
        "id": "qbQjc8BuRWsl"
      },
      "source": [
        "female_files = glob(\"wta*\")"
      ],
      "execution_count": null,
      "outputs": []
    },
    {
      "cell_type": "code",
      "metadata": {
        "id": "psmJVM7ZR57B"
      },
      "source": [
        "female_files"
      ],
      "execution_count": null,
      "outputs": []
    },
    {
      "cell_type": "markdown",
      "metadata": {
        "id": "osapGmWNV8k2"
      },
      "source": [
        "sorting the datafiles according to the year"
      ]
    },
    {
      "cell_type": "code",
      "metadata": {
        "id": "zpgfFiHkR9vZ"
      },
      "source": [
        "female_files.sort()\n",
        "female_files"
      ],
      "execution_count": null,
      "outputs": []
    },
    {
      "cell_type": "markdown",
      "metadata": {
        "id": "pFawbI8EWEl1"
      },
      "source": [
        "concatinating all the female players datafiles into a single dataframe"
      ]
    },
    {
      "cell_type": "code",
      "metadata": {
        "id": "YMfaMIwJSAch"
      },
      "source": [
        "female_data = pd.concat ((pd.read_csv(file) for file in female_files), ignore_index= True)"
      ],
      "execution_count": null,
      "outputs": []
    },
    {
      "cell_type": "markdown",
      "metadata": {
        "id": "LQZNXzmUWKAT"
      },
      "source": [
        "the final female players dataset:"
      ]
    },
    {
      "cell_type": "code",
      "metadata": {
        "id": "h0H1usz1SBPe"
      },
      "source": [
        "female_data.head()"
      ],
      "execution_count": null,
      "outputs": []
    },
    {
      "cell_type": "code",
      "metadata": {
        "id": "TKh0xQOwoLei"
      },
      "source": [
        "female_data.shape"
      ],
      "execution_count": null,
      "outputs": []
    },
    {
      "cell_type": "markdown",
      "metadata": {
        "id": "4r-Ap8JmWSqK"
      },
      "source": [
        "Data Preprocessing Steps\n",
        "Below are the established steps we’ll need to go through to make sure our data is successfully preprocessed.\n",
        "\n",
        "1. Data quality assessment\n",
        "2. Data cleaning\n",
        "3. Data transformation\n",
        "4. Data reduction"
      ]
    },
    {
      "cell_type": "markdown",
      "metadata": {
        "id": "MhwqgFptWNFI"
      },
      "source": [
        "1. Data quality assessment\n",
        "First we take a good look at our data and get an idea of its overall quality, relevance to our project, and consistency. There are a number of data anomalies and inherent problems to look out for in almost any data set, for example:\n",
        "\n",
        "Mismatched data types: When you collect data from many different sources, it may come to you in different formats.\n",
        "\n",
        "Mixed data values: Perhaps different sources use different descriptors for features – for example, man or male. These value descriptors should all be made uniform.\n",
        "\n",
        "Data outliers: Outliers can have a huge impact on data analysis results.\n",
        "\n",
        "Missing data: Take a look for missing data fields, blank spaces in text, or unanswered survey questions. This could be due to human error or incomplete data. To take care of missing data, you’ll have to perform data cleaning.\n",
        "\n",
        "\n",
        "Since all our data comes from a single source we can conclude that there are no inconsistencies with respect to the quality, data types and data values."
      ]
    },
    {
      "cell_type": "markdown",
      "metadata": {
        "id": "1D7GTsLaZhfD"
      },
      "source": [
        "2. Data cleaning\n",
        "Data cleaning is the process of adding missing data and correcting, repairing, or removing incorrect or irrelevant data from a data set. Dating cleaning is the most important step of preprocessing because it will ensure that your data is ready to go for your downstream needs.\n",
        "\n",
        "Data cleaning will correct all of the inconsistent data you uncovered in your data quality assessment. Depending on the kind of data you’re working with, there are a number of possible cleaners you’ll need to run your data through.\n",
        "\n",
        "Missing data\n",
        "There are a number of ways to correct for missing data, but the two most common are:\n",
        "\n",
        "Ignore the tuples: A tuple is an ordered list or sequence of numbers or entities. If multiple values are missing within tuples, you may simply discard the tuples with that missing information. This is only recommended for large data sets, when a few ignored tuples won’t harm further analysis.\n",
        "\n",
        "Manually fill in missing data: This can be tedious, but is definitely necessary when working with smaller data sets.\n",
        "\n",
        "\n",
        "Let us check our datasets for any missing data."
      ]
    },
    {
      "cell_type": "code",
      "metadata": {
        "id": "BaluTiUgZ3lW"
      },
      "source": [
        "missing_male_data = male_data.isnull()\n",
        "missing_male_data.head()"
      ],
      "execution_count": null,
      "outputs": []
    },
    {
      "cell_type": "code",
      "metadata": {
        "id": "oSI7GfYMbJcd"
      },
      "source": [
        "missing_female_data = female_data.isnull()\n",
        "missing_female_data.head()"
      ],
      "execution_count": null,
      "outputs": []
    },
    {
      "cell_type": "markdown",
      "metadata": {
        "id": "8jkdzZ2OcIt5"
      },
      "source": [
        "we can see from the above values that our datasets contain null values which could be harmful for our analysis.\n",
        "\n",
        "lets see the count of the null values for each columns and then find the overall percentage of those null values.\n"
      ]
    },
    {
      "cell_type": "markdown",
      "metadata": {
        "id": "yNJVOpuxfpnZ"
      },
      "source": [
        "First lets do it for the Male players dataframe"
      ]
    },
    {
      "cell_type": "code",
      "metadata": {
        "id": "DdW5j4C7cHI-"
      },
      "source": [
        "sum_missing_male_data = missing_male_data.sum()\n",
        "sum_missing_male_data"
      ],
      "execution_count": null,
      "outputs": []
    },
    {
      "cell_type": "code",
      "metadata": {
        "id": "7f4ajXSYehsW"
      },
      "source": [
        "len(male_data)"
      ],
      "execution_count": null,
      "outputs": []
    },
    {
      "cell_type": "code",
      "metadata": {
        "id": "BEsLHkC-ey_p"
      },
      "source": [
        "percentage_missing_male_data = (sum_missing_male_data / len(male_data))*100\n",
        "percentage_missing_male_data"
      ],
      "execution_count": null,
      "outputs": []
    },
    {
      "cell_type": "markdown",
      "metadata": {
        "id": "Fdx2r_8Bflt1"
      },
      "source": [
        "Now for the female players dataframe"
      ]
    },
    {
      "cell_type": "code",
      "metadata": {
        "id": "0CJ8Ing8fLrU"
      },
      "source": [
        "sum_missing_female_data = missing_female_data.sum()\n",
        "sum_missing_female_data"
      ],
      "execution_count": null,
      "outputs": []
    },
    {
      "cell_type": "code",
      "metadata": {
        "id": "x5ie04Bgf1Xe"
      },
      "source": [
        "len(female_data)"
      ],
      "execution_count": null,
      "outputs": []
    },
    {
      "cell_type": "code",
      "metadata": {
        "id": "sAcQAyxXf2qa"
      },
      "source": [
        "percentage_missing_female_data = (sum_missing_female_data / len(female_data))*100\n",
        "percentage_missing_female_data"
      ],
      "execution_count": null,
      "outputs": []
    },
    {
      "cell_type": "markdown",
      "metadata": {
        "id": "WxncsGMNgGNx"
      },
      "source": [
        "From the above analysis we can see that there are many columns in both the datafarmes with very high percentage of missing data. We will now drop those columns from the dataframes."
      ]
    },
    {
      "cell_type": "code",
      "metadata": {
        "id": "PPjwL4aoirBE"
      },
      "source": [
        "male_perc = 50.0\n",
        "male_min_count = int(((100-male_perc)/100)*male_data.shape[0] + 1)\n",
        "new_male_data = male_data.dropna( axis=1, \n",
        "                thresh=male_min_count)\n",
        "\n",
        "female_perc = 70.0\n",
        "female_min_count = int(((100-female_perc)/100)*female_data.shape[0] + 1)\n",
        "new_female_data = female_data.dropna(axis =1, thresh = female_min_count)"
      ],
      "execution_count": null,
      "outputs": []
    },
    {
      "cell_type": "code",
      "metadata": {
        "id": "BAp-yAG7mpkx"
      },
      "source": [
        "new_male_data.head()"
      ],
      "execution_count": null,
      "outputs": []
    },
    {
      "cell_type": "code",
      "metadata": {
        "id": "goWiLliOopV4"
      },
      "source": [
        "new_male_data.shape"
      ],
      "execution_count": null,
      "outputs": []
    },
    {
      "cell_type": "code",
      "metadata": {
        "id": "pbDiD4jrmrRC"
      },
      "source": [
        "new_female_data.head()"
      ],
      "execution_count": null,
      "outputs": []
    },
    {
      "cell_type": "code",
      "metadata": {
        "id": "KfjyULPgoxk5"
      },
      "source": [
        "new_female_data.shape"
      ],
      "execution_count": null,
      "outputs": []
    },
    {
      "cell_type": "markdown",
      "metadata": {
        "id": "7B_rs6r7pg9L"
      },
      "source": [
        "There are some columns with missing data which are useful for our analysis. Let us fill those columns with either a string or mean of the values in those columns."
      ]
    },
    {
      "cell_type": "code",
      "metadata": {
        "id": "RUW7bnH4u5E_"
      },
      "source": [
        "percentage_missing_male_data"
      ],
      "execution_count": null,
      "outputs": []
    },
    {
      "cell_type": "markdown",
      "metadata": {
        "id": "jrH8eg_IUVqh"
      },
      "source": [
        "**Changed the null values in Surface column not 'Not Mentioned'**"
      ]
    },
    {
      "cell_type": "code",
      "metadata": {
        "id": "h8Yi-GKOwG5l"
      },
      "source": [
        "new_male_data.surface.fillna('Not Mentioned', inplace=True)\n",
        "new_male_data.tail()"
      ],
      "execution_count": null,
      "outputs": []
    },
    {
      "cell_type": "code",
      "metadata": {
        "id": "XU7eN8LIwiIT"
      },
      "source": [
        "frequency = new_male_data['surface'].value_counts(dropna=False)\n",
        "frequency"
      ],
      "execution_count": null,
      "outputs": []
    },
    {
      "cell_type": "markdown",
      "metadata": {
        "id": "m5c-HcvjUs0J"
      },
      "source": [
        "**Below we are changing the null winner & loser age of Male players to it mean.**"
      ]
    },
    {
      "cell_type": "code",
      "metadata": {
        "id": "DYzBPJpZD2Xs"
      },
      "source": [
        "mean_male_winner_age = new_male_data['winner_age'].mean()\n",
        "print(mean_male_winner_age)\n",
        "mean_male_loser_age = new_male_data['loser_age'].mean()\n",
        "print(mean_male_loser_age)"
      ],
      "execution_count": null,
      "outputs": []
    },
    {
      "cell_type": "code",
      "metadata": {
        "id": "JwXVbY4UEqEp"
      },
      "source": [
        "new_male_data.winner_age.fillna(mean_male_winner_age, inplace=True)\n",
        "new_male_data.loser_age.fillna(mean_male_loser_age, inplace=True)\n"
      ],
      "execution_count": null,
      "outputs": []
    },
    {
      "cell_type": "markdown",
      "metadata": {
        "id": "fxbBSTVBUwen"
      },
      "source": [
        "**Below we are changing the null winner & loser age of Female players to it mean.**"
      ]
    },
    {
      "cell_type": "code",
      "metadata": {
        "id": "7_isiY2MF-yD"
      },
      "source": [
        "mean_female_loser_age = new_female_data['loser_age'].mean()\n",
        "print(mean_female_loser_age)\n",
        "mean_female_winner_age = new_female_data['winner_age'].mean()\n",
        "print(mean_female_winner_age)"
      ],
      "execution_count": null,
      "outputs": []
    },
    {
      "cell_type": "code",
      "metadata": {
        "id": "OPbm_63hGQQh"
      },
      "source": [
        "new_female_data.loser_age.fillna(mean_loser_age, inplace=True)\n",
        "new_female_data.winner_age.fillna(mean_female_winner_age, inplace=True)\n",
        "\n",
        "\n"
      ],
      "execution_count": null,
      "outputs": []
    },
    {
      "cell_type": "markdown",
      "metadata": {
        "id": "QpG-6rbzU3W_"
      },
      "source": [
        "**Below we are changing the null winner & loser height of Male players to it mean.**\n",
        "\n"
      ]
    },
    {
      "cell_type": "code",
      "metadata": {
        "id": "hhr60IUYBbPy"
      },
      "source": [
        "mean_winner_ht = new_male_data['winner_ht'].mean()\n",
        "print(mean_winner_ht)\n",
        "new_male_data.winner_ht.fillna(mean_winner_ht, inplace=True)\n",
        "\n"
      ],
      "execution_count": null,
      "outputs": []
    },
    {
      "cell_type": "code",
      "metadata": {
        "id": "79lN9_BTB_SM"
      },
      "source": [
        "mean_loser_ht = new_male_data['loser_ht'].mean()\n",
        "print(mean_loser_ht)\n",
        "new_male_data.loser_ht.fillna(mean_loser_ht, inplace=True)\n",
        "\n"
      ],
      "execution_count": null,
      "outputs": []
    },
    {
      "cell_type": "code",
      "metadata": {
        "id": "mu3JatbdD0GC"
      },
      "source": [
        "\n",
        "mean_floser_ht = new_female_data['loser_ht'].mean()\n",
        "print(mean_floser_ht)\n",
        "new_female_data.loser_ht.fillna(mean_floser_ht, inplace=True)\n"
      ],
      "execution_count": null,
      "outputs": []
    },
    {
      "cell_type": "code",
      "metadata": {
        "id": "-qtlwc4G38OH"
      },
      "source": [
        "mean_fwinner_ht = new_female_data['winner_ht'].mean()\n",
        "print(mean_fwinner_ht)\n",
        "new_female_data.winner_ht.fillna(mean_fwinner_ht, inplace=True)\n",
        "\n",
        "\n",
        "\n"
      ],
      "execution_count": null,
      "outputs": []
    },
    {
      "cell_type": "code",
      "metadata": {
        "id": "qnNL6ioRA4PE"
      },
      "source": [
        "new_female_data.drop(new_female_data.columns.difference(['tourney_name','surface' , 'winner_name' , 'winner_hand' , 'winner_age' , 'winner_ht' , 'winner_ioc' , 'loser_name' , 'loser_hand' , 'loser_age' , 'loser_ht' , 'loser_ioc' ,'round']), 1, inplace=False)\n"
      ],
      "execution_count": null,
      "outputs": []
    },
    {
      "cell_type": "code",
      "metadata": {
        "id": "AGgNbd0zP9WF"
      },
      "source": [
        "new_male_data.drop(new_male_data.columns.difference(['tourney_name','surface' , 'winner_name' , 'winner_hand' , 'winner_age' , 'winner_ht' , 'winner_ioc' , 'loser_name' , 'loser_hand' , 'loser_age' , 'loser_ht' , 'loser_ioc','round' ]), 1, inplace=False)"
      ],
      "execution_count": null,
      "outputs": []
    },
    {
      "cell_type": "code",
      "metadata": {
        "id": "-MHjnjqhabYN"
      },
      "source": [
        ""
      ],
      "execution_count": null,
      "outputs": []
    },
    {
      "cell_type": "code",
      "metadata": {
        "id": "Lvfxh4J3WFrr"
      },
      "source": [
        "import numpy as np \n",
        "import matplotlib.pyplot as plt\n",
        "new_male_data.winner_ioc.fillna('Test', inplace=True)\n",
        "plt.figure(figsize=(10, 8), dpi=80)\n",
        "plt_1 = new_male_data[['surface','winner_ioc','winner_id']].groupby(['surface','winner_ioc']).size().reset_index(name='counts').sort_values('counts',ascending=False).head(10)\n",
        "\n",
        "N = 50\n",
        "x = plt_1['surface']\n",
        "y = plt_1['winner_ioc']\n",
        "s=plt_1['counts']\n",
        "#colors = np.random.rand(len())\n",
        "\n",
        "plt.scatter(x, y,s, alpha=0.5)\n",
        "plt.show()"
      ],
      "execution_count": null,
      "outputs": []
    },
    {
      "cell_type": "markdown",
      "metadata": {
        "id": "uekHWL6a3c05"
      },
      "source": [
        "**The above graph gives a view of country vs surface which can help us understand which country plays better on which surface. This can help us understand where players of a certain country need to improve. Eg: USA plays very good on Hard surfaces as compared to Grass. This shows us that players in United States need to focus on Grass courts more.**"
      ]
    },
    {
      "cell_type": "code",
      "metadata": {
        "id": "rCWVkvABcuMY"
      },
      "source": [
        "plt_2 = new_male_data[new_male_data['round'] == 'F']\n",
        "\n",
        "conditions = [\n",
        "    (plt_2['winner_age'] >20) & (plt_2['winner_age'] <30),\n",
        "    (plt_2['winner_age'] >30)  ]\n",
        "\n",
        "values = ['20 to 30', '30+']\n",
        "plt_2['AgeGroup'] = np.select(conditions, values)\n",
        "plt_2 = plt_2[['AgeGroup','tourney_date']]\n",
        "plt_2['tourney_date'] = plt_2['tourney_date']//10000\n",
        "plt_2 = plt_2.groupby(['AgeGroup','tourney_date']).size().reset_index(name='counts').sort_values('counts',ascending=False)\n",
        "plt_2 = plt_2[plt_2['tourney_date'] > 2010]\n",
        "#plt_2['tourney_date'] = pd.Categorical(plt_2.tourney_date)\n",
        "plt_2_1 = plt_2[plt_2['AgeGroup'] == '20 to 30']\n",
        "plt_2_2 = plt_2[plt_2['AgeGroup'] == '30+']\n",
        "\n",
        "plt.bar(plt_2_1['tourney_date'],plt_2_1['counts'],color = 'blue')\n",
        "#plt.show()\n",
        "plt.bar(plt_2_2['tourney_date'],plt_2_2['counts'],color = 'red')\n",
        "plt.show()"
      ],
      "execution_count": null,
      "outputs": []
    },
    {
      "cell_type": "markdown",
      "metadata": {
        "id": "baC_xR244spP"
      },
      "source": [
        "**The above graph gives a view of age vs year, which shows us which age group performed well given an year. The color red shows age group 20 to 30 where as blue shows all players 30+. As we can see, players above 30 dominated the matches of the year 2012.**"
      ]
    },
    {
      "cell_type": "code",
      "metadata": {
        "id": "Qry28F5a5Yi5"
      },
      "source": [
        ""
      ],
      "execution_count": null,
      "outputs": []
    }
  ]
}