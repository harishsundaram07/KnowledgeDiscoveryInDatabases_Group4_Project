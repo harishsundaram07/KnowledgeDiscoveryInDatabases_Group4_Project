{
  "nbformat": 4,
  "nbformat_minor": 0,
  "metadata": {
    "colab": {
      "name": "KDD_Project_Deliverable2.ipynb",
      "provenance": [],
      "collapsed_sections": [],
      "include_colab_link": true
    },
    "kernelspec": {
      "name": "python3",
      "display_name": "Python 3"
    },
    "language_info": {
      "name": "python"
    }
  },
  "cells": [
    {
      "cell_type": "markdown",
      "metadata": {
        "id": "view-in-github",
        "colab_type": "text"
      },
      "source": [
        "<a href=\"https://colab.research.google.com/github/harishsundaram07/KnowledgeDiscoveryInDatabases_Group4_Project/blob/main/KDD_Project_Deliverable2.ipynb\" target=\"_parent\"><img src=\"https://colab.research.google.com/assets/colab-badge.svg\" alt=\"Open In Colab\"/></a>"
      ]
    },
    {
      "cell_type": "markdown",
      "metadata": {
        "id": "k9qpYpEIVXkm"
      },
      "source": [
        "Group 4:\n",
        "\n",
        "1.  Harikrishnan Sundaram\n",
        "2.  Malhar Joshi\n",
        "3. Yash Chaudhari\n",
        "4. Dhruv Jani\n",
        "****\n",
        "\n",
        "#**AIM OF THE PROJECT:**\n",
        "To draw insights from a Tennis dataset w.r.t players age and correlation with the win and loss trend and analyzing the change in participation and performance of the tennis players from major countries like USA, UK, etc. In the earlier days of Tennis, the players would retire by the age of 30, but in recent times, the players have been playing at the age of around 35 and performing well. We will be analyzing the change in the pattern of participation Among the tennis players.\n",
        "****\n",
        "#**RESEARCH QUESTIONS:**\n",
        "1.\tWhat is the win percentage of players having the age in the range of 20-25, 25-30, 30-35 vs 35 and above for male and female players?\n",
        "2.\tWhat is the different winning percentage of a player from a specific country on different surfaces? \n",
        "3.\tThe percentage of wins between players from the US vs other popular countries and between age groups ranging from 20-25, 25-30, 30-35 vs 35 and above. \n",
        "4.\tWhat factor is influencing the change in the trend of all male and female players winning the championship? If it's the surface, the age, or some other reason.\n",
        "****\n",
        "#**ANALYSIS:**\n",
        "For this project we will be using **Descriptive Analysis**.\n",
        "Descriptive analysis is the process of using statistical techniques to describe or summarize a set of data. It is popular for its ability to generate accessible insights from otherwise uninterpreted data.\n",
        "\n",
        "****\n",
        "\n",
        "\n",
        "\n",
        "Export the zip file and place all the dataset in the directory.\n",
        "\n"
      ]
    },
    {
      "cell_type": "markdown",
      "metadata": {
        "id": "puzHfuov6LWi"
      },
      "source": [
        "#**Importing all necessary libraries**"
      ]
    },
    {
      "cell_type": "code",
      "metadata": {
        "id": "aoojlZTXgOLn"
      },
      "source": [
        "import pandas as pd\n",
        "from glob import glob\n",
        "\n",
        "import numpy as np \n",
        "import matplotlib as mpl\n",
        "import matplotlib.pyplot as plt\n",
        "\n",
        "mpl.rcParams['figure.figsize'] = (20,8)\n",
        "mpl.rcParams['axes.grid'] = False"
      ],
      "execution_count": null,
      "outputs": []
    },
    {
      "cell_type": "markdown",
      "metadata": {
        "id": "TAmj43vRVgrX"
      },
      "source": [
        "#**Reading all the datafiles for the male players**"
      ]
    },
    {
      "cell_type": "code",
      "metadata": {
        "id": "dYmPvdWqQHXp"
      },
      "source": [
        "male_files = glob(\"atp*\")"
      ],
      "execution_count": null,
      "outputs": []
    },
    {
      "cell_type": "code",
      "metadata": {
        "id": "t-ZuWc5cQVvz"
      },
      "source": [
        "male_files"
      ],
      "execution_count": null,
      "outputs": []
    },
    {
      "cell_type": "markdown",
      "metadata": {
        "id": "TxGXBYO3VmRQ"
      },
      "source": [
        "#**Sorting the datafiles according to the year**"
      ]
    },
    {
      "cell_type": "code",
      "metadata": {
        "id": "c2toRivWQYLE"
      },
      "source": [
        "male_files.sort()\n",
        "male_files"
      ],
      "execution_count": null,
      "outputs": []
    },
    {
      "cell_type": "markdown",
      "metadata": {
        "id": "RC4NBM24Vrbw"
      },
      "source": [
        "#**Concatinating all the male players datafiles into a single dataframe**"
      ]
    },
    {
      "cell_type": "code",
      "metadata": {
        "id": "Xk6biZQjQgoT"
      },
      "source": [
        "male_data = pd.concat ((pd.read_csv(file) for file in male_files), ignore_index= True)"
      ],
      "execution_count": null,
      "outputs": []
    },
    {
      "cell_type": "code",
      "metadata": {
        "id": "s9a17am44G1d"
      },
      "source": [
        "from google.colab import drive\n",
        "drive.mount('/content/drive')"
      ],
      "execution_count": null,
      "outputs": []
    },
    {
      "cell_type": "markdown",
      "metadata": {
        "id": "BFKeJ9X9VygO"
      },
      "source": [
        "#**The final male players dataset:**"
      ]
    },
    {
      "cell_type": "code",
      "metadata": {
        "id": "9WjqFLJXRU3P",
        "colab": {
          "base_uri": "https://localhost:8080/",
          "height": 307
        },
        "outputId": "3dc74132-2190-4afc-a45f-dc65377f48be"
      },
      "source": [
        "male_data.head()"
      ],
      "execution_count": 162,
      "outputs": [
        {
          "output_type": "execute_result",
          "data": {
            "text/html": [
              "<div>\n",
              "<style scoped>\n",
              "    .dataframe tbody tr th:only-of-type {\n",
              "        vertical-align: middle;\n",
              "    }\n",
              "\n",
              "    .dataframe tbody tr th {\n",
              "        vertical-align: top;\n",
              "    }\n",
              "\n",
              "    .dataframe thead th {\n",
              "        text-align: right;\n",
              "    }\n",
              "</style>\n",
              "<table border=\"1\" class=\"dataframe\">\n",
              "  <thead>\n",
              "    <tr style=\"text-align: right;\">\n",
              "      <th></th>\n",
              "      <th>tourney_id</th>\n",
              "      <th>tourney_name</th>\n",
              "      <th>surface</th>\n",
              "      <th>draw_size</th>\n",
              "      <th>tourney_level</th>\n",
              "      <th>tourney_date</th>\n",
              "      <th>match_num</th>\n",
              "      <th>winner_id</th>\n",
              "      <th>winner_seed</th>\n",
              "      <th>winner_entry</th>\n",
              "      <th>winner_name</th>\n",
              "      <th>winner_hand</th>\n",
              "      <th>winner_ht</th>\n",
              "      <th>winner_ioc</th>\n",
              "      <th>winner_age</th>\n",
              "      <th>loser_id</th>\n",
              "      <th>loser_seed</th>\n",
              "      <th>loser_entry</th>\n",
              "      <th>loser_name</th>\n",
              "      <th>loser_hand</th>\n",
              "      <th>loser_ht</th>\n",
              "      <th>loser_ioc</th>\n",
              "      <th>loser_age</th>\n",
              "      <th>score</th>\n",
              "      <th>best_of</th>\n",
              "      <th>round</th>\n",
              "      <th>minutes</th>\n",
              "      <th>w_ace</th>\n",
              "      <th>w_df</th>\n",
              "      <th>w_svpt</th>\n",
              "      <th>w_1stIn</th>\n",
              "      <th>w_1stWon</th>\n",
              "      <th>w_2ndWon</th>\n",
              "      <th>w_SvGms</th>\n",
              "      <th>w_bpSaved</th>\n",
              "      <th>w_bpFaced</th>\n",
              "      <th>l_ace</th>\n",
              "      <th>l_df</th>\n",
              "      <th>l_svpt</th>\n",
              "      <th>l_1stIn</th>\n",
              "      <th>l_1stWon</th>\n",
              "      <th>l_2ndWon</th>\n",
              "      <th>l_SvGms</th>\n",
              "      <th>l_bpSaved</th>\n",
              "      <th>l_bpFaced</th>\n",
              "      <th>winner_rank</th>\n",
              "      <th>winner_rank_points</th>\n",
              "      <th>loser_rank</th>\n",
              "      <th>loser_rank_points</th>\n",
              "    </tr>\n",
              "  </thead>\n",
              "  <tbody>\n",
              "    <tr>\n",
              "      <th>0</th>\n",
              "      <td>1970-2029</td>\n",
              "      <td>Dublin</td>\n",
              "      <td>Grass</td>\n",
              "      <td>32</td>\n",
              "      <td>A</td>\n",
              "      <td>19700706</td>\n",
              "      <td>271</td>\n",
              "      <td>100106</td>\n",
              "      <td>NaN</td>\n",
              "      <td>NaN</td>\n",
              "      <td>Graham Stilwell</td>\n",
              "      <td>R</td>\n",
              "      <td>173.0</td>\n",
              "      <td>GBR</td>\n",
              "      <td>24.637919</td>\n",
              "      <td>125672</td>\n",
              "      <td>NaN</td>\n",
              "      <td>NaN</td>\n",
              "      <td>Kenneth Reid</td>\n",
              "      <td>U</td>\n",
              "      <td>NaN</td>\n",
              "      <td>IRL</td>\n",
              "      <td>NaN</td>\n",
              "      <td>6-0 6-4</td>\n",
              "      <td>3</td>\n",
              "      <td>R32</td>\n",
              "      <td>NaN</td>\n",
              "      <td>NaN</td>\n",
              "      <td>NaN</td>\n",
              "      <td>NaN</td>\n",
              "      <td>NaN</td>\n",
              "      <td>NaN</td>\n",
              "      <td>NaN</td>\n",
              "      <td>NaN</td>\n",
              "      <td>NaN</td>\n",
              "      <td>NaN</td>\n",
              "      <td>NaN</td>\n",
              "      <td>NaN</td>\n",
              "      <td>NaN</td>\n",
              "      <td>NaN</td>\n",
              "      <td>NaN</td>\n",
              "      <td>NaN</td>\n",
              "      <td>NaN</td>\n",
              "      <td>NaN</td>\n",
              "      <td>NaN</td>\n",
              "      <td>NaN</td>\n",
              "      <td>NaN</td>\n",
              "      <td>NaN</td>\n",
              "      <td>NaN</td>\n",
              "    </tr>\n",
              "    <tr>\n",
              "      <th>1</th>\n",
              "      <td>1970-2029</td>\n",
              "      <td>Dublin</td>\n",
              "      <td>Grass</td>\n",
              "      <td>32</td>\n",
              "      <td>A</td>\n",
              "      <td>19700706</td>\n",
              "      <td>272</td>\n",
              "      <td>209533</td>\n",
              "      <td>NaN</td>\n",
              "      <td>NaN</td>\n",
              "      <td>Harry Sheridan</td>\n",
              "      <td>U</td>\n",
              "      <td>NaN</td>\n",
              "      <td>IRL</td>\n",
              "      <td>NaN</td>\n",
              "      <td>209675</td>\n",
              "      <td>NaN</td>\n",
              "      <td>NaN</td>\n",
              "      <td>B Sweeney</td>\n",
              "      <td>U</td>\n",
              "      <td>NaN</td>\n",
              "      <td>IRL</td>\n",
              "      <td>NaN</td>\n",
              "      <td>6-2 6-4</td>\n",
              "      <td>3</td>\n",
              "      <td>R32</td>\n",
              "      <td>NaN</td>\n",
              "      <td>NaN</td>\n",
              "      <td>NaN</td>\n",
              "      <td>NaN</td>\n",
              "      <td>NaN</td>\n",
              "      <td>NaN</td>\n",
              "      <td>NaN</td>\n",
              "      <td>NaN</td>\n",
              "      <td>NaN</td>\n",
              "      <td>NaN</td>\n",
              "      <td>NaN</td>\n",
              "      <td>NaN</td>\n",
              "      <td>NaN</td>\n",
              "      <td>NaN</td>\n",
              "      <td>NaN</td>\n",
              "      <td>NaN</td>\n",
              "      <td>NaN</td>\n",
              "      <td>NaN</td>\n",
              "      <td>NaN</td>\n",
              "      <td>NaN</td>\n",
              "      <td>NaN</td>\n",
              "      <td>NaN</td>\n",
              "      <td>NaN</td>\n",
              "    </tr>\n",
              "    <tr>\n",
              "      <th>2</th>\n",
              "      <td>1970-2029</td>\n",
              "      <td>Dublin</td>\n",
              "      <td>Grass</td>\n",
              "      <td>32</td>\n",
              "      <td>A</td>\n",
              "      <td>19700706</td>\n",
              "      <td>273</td>\n",
              "      <td>100100</td>\n",
              "      <td>NaN</td>\n",
              "      <td>NaN</td>\n",
              "      <td>Tony Roche</td>\n",
              "      <td>L</td>\n",
              "      <td>178.0</td>\n",
              "      <td>AUS</td>\n",
              "      <td>25.136208</td>\n",
              "      <td>125716</td>\n",
              "      <td>NaN</td>\n",
              "      <td>NaN</td>\n",
              "      <td>James Buckley</td>\n",
              "      <td>U</td>\n",
              "      <td>NaN</td>\n",
              "      <td>IRL</td>\n",
              "      <td>33.223819</td>\n",
              "      <td>6-0 6-0</td>\n",
              "      <td>3</td>\n",
              "      <td>R32</td>\n",
              "      <td>NaN</td>\n",
              "      <td>NaN</td>\n",
              "      <td>NaN</td>\n",
              "      <td>NaN</td>\n",
              "      <td>NaN</td>\n",
              "      <td>NaN</td>\n",
              "      <td>NaN</td>\n",
              "      <td>NaN</td>\n",
              "      <td>NaN</td>\n",
              "      <td>NaN</td>\n",
              "      <td>NaN</td>\n",
              "      <td>NaN</td>\n",
              "      <td>NaN</td>\n",
              "      <td>NaN</td>\n",
              "      <td>NaN</td>\n",
              "      <td>NaN</td>\n",
              "      <td>NaN</td>\n",
              "      <td>NaN</td>\n",
              "      <td>NaN</td>\n",
              "      <td>NaN</td>\n",
              "      <td>NaN</td>\n",
              "      <td>NaN</td>\n",
              "      <td>NaN</td>\n",
              "    </tr>\n",
              "    <tr>\n",
              "      <th>3</th>\n",
              "      <td>1970-2029</td>\n",
              "      <td>Dublin</td>\n",
              "      <td>Grass</td>\n",
              "      <td>32</td>\n",
              "      <td>A</td>\n",
              "      <td>19700706</td>\n",
              "      <td>274</td>\n",
              "      <td>100060</td>\n",
              "      <td>NaN</td>\n",
              "      <td>NaN</td>\n",
              "      <td>Marty Riessen</td>\n",
              "      <td>R</td>\n",
              "      <td>185.0</td>\n",
              "      <td>USA</td>\n",
              "      <td>28.585900</td>\n",
              "      <td>209674</td>\n",
              "      <td>NaN</td>\n",
              "      <td>NaN</td>\n",
              "      <td>Frank Mcardle</td>\n",
              "      <td>U</td>\n",
              "      <td>NaN</td>\n",
              "      <td>IRL</td>\n",
              "      <td>NaN</td>\n",
              "      <td>6-1 6-2</td>\n",
              "      <td>3</td>\n",
              "      <td>R32</td>\n",
              "      <td>NaN</td>\n",
              "      <td>NaN</td>\n",
              "      <td>NaN</td>\n",
              "      <td>NaN</td>\n",
              "      <td>NaN</td>\n",
              "      <td>NaN</td>\n",
              "      <td>NaN</td>\n",
              "      <td>NaN</td>\n",
              "      <td>NaN</td>\n",
              "      <td>NaN</td>\n",
              "      <td>NaN</td>\n",
              "      <td>NaN</td>\n",
              "      <td>NaN</td>\n",
              "      <td>NaN</td>\n",
              "      <td>NaN</td>\n",
              "      <td>NaN</td>\n",
              "      <td>NaN</td>\n",
              "      <td>NaN</td>\n",
              "      <td>NaN</td>\n",
              "      <td>NaN</td>\n",
              "      <td>NaN</td>\n",
              "      <td>NaN</td>\n",
              "      <td>NaN</td>\n",
              "    </tr>\n",
              "    <tr>\n",
              "      <th>4</th>\n",
              "      <td>1970-2029</td>\n",
              "      <td>Dublin</td>\n",
              "      <td>Grass</td>\n",
              "      <td>32</td>\n",
              "      <td>A</td>\n",
              "      <td>19700706</td>\n",
              "      <td>275</td>\n",
              "      <td>100084</td>\n",
              "      <td>NaN</td>\n",
              "      <td>NaN</td>\n",
              "      <td>Tom Okker</td>\n",
              "      <td>R</td>\n",
              "      <td>178.0</td>\n",
              "      <td>NED</td>\n",
              "      <td>26.368241</td>\n",
              "      <td>209673</td>\n",
              "      <td>NaN</td>\n",
              "      <td>NaN</td>\n",
              "      <td>T Grane</td>\n",
              "      <td>U</td>\n",
              "      <td>NaN</td>\n",
              "      <td>NaN</td>\n",
              "      <td>NaN</td>\n",
              "      <td>6-2 6-0</td>\n",
              "      <td>3</td>\n",
              "      <td>R32</td>\n",
              "      <td>NaN</td>\n",
              "      <td>NaN</td>\n",
              "      <td>NaN</td>\n",
              "      <td>NaN</td>\n",
              "      <td>NaN</td>\n",
              "      <td>NaN</td>\n",
              "      <td>NaN</td>\n",
              "      <td>NaN</td>\n",
              "      <td>NaN</td>\n",
              "      <td>NaN</td>\n",
              "      <td>NaN</td>\n",
              "      <td>NaN</td>\n",
              "      <td>NaN</td>\n",
              "      <td>NaN</td>\n",
              "      <td>NaN</td>\n",
              "      <td>NaN</td>\n",
              "      <td>NaN</td>\n",
              "      <td>NaN</td>\n",
              "      <td>NaN</td>\n",
              "      <td>NaN</td>\n",
              "      <td>NaN</td>\n",
              "      <td>NaN</td>\n",
              "      <td>NaN</td>\n",
              "    </tr>\n",
              "  </tbody>\n",
              "</table>\n",
              "</div>"
            ],
            "text/plain": [
              "  tourney_id tourney_name  ... loser_rank  loser_rank_points\n",
              "0  1970-2029       Dublin  ...        NaN                NaN\n",
              "1  1970-2029       Dublin  ...        NaN                NaN\n",
              "2  1970-2029       Dublin  ...        NaN                NaN\n",
              "3  1970-2029       Dublin  ...        NaN                NaN\n",
              "4  1970-2029       Dublin  ...        NaN                NaN\n",
              "\n",
              "[5 rows x 49 columns]"
            ]
          },
          "metadata": {},
          "execution_count": 162
        }
      ]
    },
    {
      "cell_type": "code",
      "metadata": {
        "id": "JXf8kxdmoByJ"
      },
      "source": [
        "male_data.shape"
      ],
      "execution_count": null,
      "outputs": []
    },
    {
      "cell_type": "markdown",
      "metadata": {
        "id": "gwFCX2IpV49V"
      },
      "source": [
        "#**Reading all the datafiles for the female players**"
      ]
    },
    {
      "cell_type": "code",
      "metadata": {
        "id": "qbQjc8BuRWsl"
      },
      "source": [
        "female_files = glob(\"wta*\")"
      ],
      "execution_count": null,
      "outputs": []
    },
    {
      "cell_type": "code",
      "metadata": {
        "id": "psmJVM7ZR57B"
      },
      "source": [
        "female_files"
      ],
      "execution_count": null,
      "outputs": []
    },
    {
      "cell_type": "markdown",
      "metadata": {
        "id": "osapGmWNV8k2"
      },
      "source": [
        "#**Sorting the datafiles according to the year**"
      ]
    },
    {
      "cell_type": "code",
      "metadata": {
        "id": "zpgfFiHkR9vZ"
      },
      "source": [
        "female_files.sort()\n",
        "female_files"
      ],
      "execution_count": null,
      "outputs": []
    },
    {
      "cell_type": "markdown",
      "metadata": {
        "id": "pFawbI8EWEl1"
      },
      "source": [
        "#**Concatinating all the female players datafiles into a single dataframe**"
      ]
    },
    {
      "cell_type": "code",
      "metadata": {
        "id": "YMfaMIwJSAch"
      },
      "source": [
        "female_data = pd.concat ((pd.read_csv(file) for file in female_files), ignore_index= True)"
      ],
      "execution_count": null,
      "outputs": []
    },
    {
      "cell_type": "markdown",
      "metadata": {
        "id": "LQZNXzmUWKAT"
      },
      "source": [
        "#**The final female players dataset:**"
      ]
    },
    {
      "cell_type": "code",
      "metadata": {
        "id": "h0H1usz1SBPe"
      },
      "source": [
        "female_data.head()"
      ],
      "execution_count": null,
      "outputs": []
    },
    {
      "cell_type": "code",
      "metadata": {
        "id": "TKh0xQOwoLei"
      },
      "source": [
        "female_data.shape"
      ],
      "execution_count": null,
      "outputs": []
    },
    {
      "cell_type": "markdown",
      "metadata": {
        "id": "4r-Ap8JmWSqK"
      },
      "source": [
        "#**Data Preprocessing Steps**\n",
        "**Below are the established steps we’ll need to go through to make sure our data is successfully preprocessed.**\n",
        "\n",
        "**1. Data quality assessment**\n",
        "\n",
        "**2. Data cleaning**\n",
        "\n",
        "**3. Data reduction**"
      ]
    },
    {
      "cell_type": "markdown",
      "metadata": {
        "id": "MhwqgFptWNFI"
      },
      "source": [
        "**1. Data quality assessment**\n",
        "\n",
        "First we take a good look at our data and get an idea of its overall quality, relevance to our project, and consistency. There are a number of data anomalies and inherent problems to look out for in almost any data set, for example:\n",
        "\n",
        "Mismatched data types: When you collect data from many different sources, it may come to you in different formats.\n",
        "\n",
        "Mixed data values: Perhaps different sources use different descriptors for features – for example, man or male. These value descriptors should all be made uniform.\n",
        "\n",
        "Data outliers: Outliers can have a huge impact on data analysis results.\n",
        "\n",
        "Missing data: Take a look for missing data fields, blank spaces in text, or unanswered survey questions. This could be due to human error or incomplete data. To take care of missing data, you’ll have to perform data cleaning.\n",
        "\n",
        "\n",
        "Since all our data comes from a single source we can conclude that there are no inconsistencies with respect to the quality, data types and data values."
      ]
    },
    {
      "cell_type": "markdown",
      "metadata": {
        "id": "1D7GTsLaZhfD"
      },
      "source": [
        "**2. Data cleaning**\n",
        "\n",
        "Data cleaning is the process of adding missing data and correcting, repairing, or removing incorrect or irrelevant data from a data set. Dating cleaning is the most important step of preprocessing because it will ensure that your data is ready to go for your downstream needs.\n",
        "\n",
        "Data cleaning will correct all of the inconsistent data you uncovered in your data quality assessment. Depending on the kind of data you’re working with, there are a number of possible cleaners you’ll need to run your data through.\n",
        "\n",
        "Missing data\n",
        "There are a number of ways to correct for missing data, but the two most common are:\n",
        "\n",
        "Ignore the tuples: A tuple is an ordered list or sequence of numbers or entities. If multiple values are missing within tuples, you may simply discard the tuples with that missing information. This is only recommended for large data sets, when a few ignored tuples won’t harm further analysis.\n",
        "\n",
        "Manually fill in missing data: This can be tedious, but is definitely necessary when working with smaller data sets.\n",
        "\n",
        "\n",
        "#**Let us check our datasets for any missing data.**"
      ]
    },
    {
      "cell_type": "code",
      "metadata": {
        "id": "BaluTiUgZ3lW"
      },
      "source": [
        "missing_male_data = male_data.isnull()\n",
        "missing_male_data.head()"
      ],
      "execution_count": null,
      "outputs": []
    },
    {
      "cell_type": "code",
      "metadata": {
        "id": "oSI7GfYMbJcd"
      },
      "source": [
        "missing_female_data = female_data.isnull()\n",
        "missing_female_data.head()"
      ],
      "execution_count": null,
      "outputs": []
    },
    {
      "cell_type": "markdown",
      "metadata": {
        "id": "8jkdzZ2OcIt5"
      },
      "source": [
        "**We can see from the above values that our datasets contain null values which could be harmful for our analysis.**\n",
        "\n",
        "**Lets see the count of the null values for each columns and then find the overall percentage of those null values.**\n"
      ]
    },
    {
      "cell_type": "markdown",
      "metadata": {
        "id": "yNJVOpuxfpnZ"
      },
      "source": [
        "**First lets do it for the Male players dataframe**"
      ]
    },
    {
      "cell_type": "code",
      "metadata": {
        "id": "DdW5j4C7cHI-"
      },
      "source": [
        "sum_missing_male_data = missing_male_data.sum()\n",
        "sum_missing_male_data"
      ],
      "execution_count": null,
      "outputs": []
    },
    {
      "cell_type": "code",
      "metadata": {
        "id": "7f4ajXSYehsW"
      },
      "source": [
        "len(male_data)"
      ],
      "execution_count": null,
      "outputs": []
    },
    {
      "cell_type": "code",
      "metadata": {
        "id": "BEsLHkC-ey_p"
      },
      "source": [
        "percentage_missing_male_data = (sum_missing_male_data / len(male_data))*100\n",
        "percentage_missing_male_data"
      ],
      "execution_count": null,
      "outputs": []
    },
    {
      "cell_type": "markdown",
      "metadata": {
        "id": "Fdx2r_8Bflt1"
      },
      "source": [
        "**Now for the female players dataframe**"
      ]
    },
    {
      "cell_type": "code",
      "metadata": {
        "id": "0CJ8Ing8fLrU"
      },
      "source": [
        "sum_missing_female_data = missing_female_data.sum()\n",
        "sum_missing_female_data"
      ],
      "execution_count": null,
      "outputs": []
    },
    {
      "cell_type": "code",
      "metadata": {
        "id": "x5ie04Bgf1Xe"
      },
      "source": [
        "len(female_data)"
      ],
      "execution_count": null,
      "outputs": []
    },
    {
      "cell_type": "code",
      "metadata": {
        "id": "sAcQAyxXf2qa"
      },
      "source": [
        "percentage_missing_female_data = (sum_missing_female_data / len(female_data))*100\n",
        "percentage_missing_female_data"
      ],
      "execution_count": null,
      "outputs": []
    },
    {
      "cell_type": "markdown",
      "metadata": {
        "id": "WxncsGMNgGNx"
      },
      "source": [
        "**From the above analysis we can see that there are many columns in both the datafarmes with very high percentage of missing data. We will now drop those columns from the dataframes.**"
      ]
    },
    {
      "cell_type": "code",
      "metadata": {
        "id": "PPjwL4aoirBE"
      },
      "source": [
        "male_perc = 50.0\n",
        "male_min_count = int(((100-male_perc)/100)*male_data.shape[0] + 1)\n",
        "new_male_data = male_data.dropna( axis=1, \n",
        "                thresh=male_min_count)\n",
        "\n",
        "female_perc = 70.0\n",
        "female_min_count = int(((100-female_perc)/100)*female_data.shape[0] + 1)\n",
        "new_female_data = female_data.dropna(axis =1, thresh = female_min_count)"
      ],
      "execution_count": null,
      "outputs": []
    },
    {
      "cell_type": "code",
      "metadata": {
        "id": "BAp-yAG7mpkx"
      },
      "source": [
        "new_male_data.head()"
      ],
      "execution_count": null,
      "outputs": []
    },
    {
      "cell_type": "code",
      "metadata": {
        "id": "goWiLliOopV4"
      },
      "source": [
        "new_male_data.shape"
      ],
      "execution_count": null,
      "outputs": []
    },
    {
      "cell_type": "code",
      "metadata": {
        "id": "pbDiD4jrmrRC"
      },
      "source": [
        "new_female_data.head()"
      ],
      "execution_count": null,
      "outputs": []
    },
    {
      "cell_type": "code",
      "metadata": {
        "id": "KfjyULPgoxk5"
      },
      "source": [
        "new_female_data.shape"
      ],
      "execution_count": null,
      "outputs": []
    },
    {
      "cell_type": "markdown",
      "metadata": {
        "id": "7B_rs6r7pg9L"
      },
      "source": [
        "**There are some columns with missing data which are useful for our analysis. Let us fill those columns with either a string or mean of the values in those columns.**"
      ]
    },
    {
      "cell_type": "code",
      "metadata": {
        "id": "RUW7bnH4u5E_"
      },
      "source": [
        "percentage_missing_male_data"
      ],
      "execution_count": null,
      "outputs": []
    },
    {
      "cell_type": "markdown",
      "metadata": {
        "id": "jrH8eg_IUVqh"
      },
      "source": [
        "#**Changed the null values in Surface column  to 'Not Mentioned'**"
      ]
    },
    {
      "cell_type": "code",
      "metadata": {
        "id": "h8Yi-GKOwG5l"
      },
      "source": [
        "new_male_data.surface.fillna('Not Mentioned', inplace=True)\n",
        "new_male_data.tail()"
      ],
      "execution_count": null,
      "outputs": []
    },
    {
      "cell_type": "code",
      "metadata": {
        "id": "XU7eN8LIwiIT"
      },
      "source": [
        "frequency = new_male_data['surface'].value_counts(dropna=False)\n",
        "frequency"
      ],
      "execution_count": null,
      "outputs": []
    },
    {
      "cell_type": "markdown",
      "metadata": {
        "id": "m5c-HcvjUs0J"
      },
      "source": [
        "#**Below we are changing the null values in winner_age & loser_age columns of Male players to its mean.**"
      ]
    },
    {
      "cell_type": "code",
      "metadata": {
        "id": "DYzBPJpZD2Xs"
      },
      "source": [
        "mean_male_winner_age = new_male_data['winner_age'].mean()\n",
        "print(mean_male_winner_age)\n",
        "mean_male_loser_age = new_male_data['loser_age'].mean()\n",
        "print(mean_male_loser_age)"
      ],
      "execution_count": null,
      "outputs": []
    },
    {
      "cell_type": "code",
      "metadata": {
        "id": "JwXVbY4UEqEp"
      },
      "source": [
        "new_male_data.winner_age.fillna(mean_male_winner_age, inplace=True)\n",
        "new_male_data.loser_age.fillna(mean_male_loser_age, inplace=True)\n"
      ],
      "execution_count": null,
      "outputs": []
    },
    {
      "cell_type": "markdown",
      "metadata": {
        "id": "fxbBSTVBUwen"
      },
      "source": [
        "#**Below we are changing the null values in winner_age & loser_age columns of Female players to its mean.**"
      ]
    },
    {
      "cell_type": "code",
      "metadata": {
        "id": "7_isiY2MF-yD"
      },
      "source": [
        "mean_female_loser_age = new_female_data['loser_age'].mean()\n",
        "print(mean_female_loser_age)\n",
        "mean_female_winner_age = new_female_data['winner_age'].mean()\n",
        "print(mean_female_winner_age)"
      ],
      "execution_count": null,
      "outputs": []
    },
    {
      "cell_type": "code",
      "metadata": {
        "id": "OPbm_63hGQQh"
      },
      "source": [
        "new_female_data.loser_age.fillna(mean_female_loser_age, inplace=True)\n",
        "new_female_data.winner_age.fillna(mean_female_winner_age, inplace=True)"
      ],
      "execution_count": null,
      "outputs": []
    },
    {
      "cell_type": "code",
      "metadata": {
        "id": "JL9BHbjk264U"
      },
      "source": [
        "#frequency = new_male_data['winner_age'].value_counts(dropna=False)\n",
        "#frequency"
      ],
      "execution_count": null,
      "outputs": []
    },
    {
      "cell_type": "markdown",
      "metadata": {
        "id": "QpG-6rbzU3W_"
      },
      "source": [
        "#**Below we are changing the null values in winner_ht & loser_ht columns of Male players to its mean.**\n",
        "\n"
      ]
    },
    {
      "cell_type": "code",
      "metadata": {
        "id": "hhr60IUYBbPy"
      },
      "source": [
        "mean_winner_ht = new_male_data['winner_ht'].mean()\n",
        "print(mean_winner_ht)\n",
        "new_male_data.winner_ht.fillna(mean_winner_ht, inplace=True)"
      ],
      "execution_count": null,
      "outputs": []
    },
    {
      "cell_type": "code",
      "metadata": {
        "id": "79lN9_BTB_SM"
      },
      "source": [
        "mean_loser_ht = new_male_data['loser_ht'].mean()\n",
        "print(mean_loser_ht)\n",
        "new_male_data.loser_ht.fillna(mean_loser_ht, inplace=True)"
      ],
      "execution_count": null,
      "outputs": []
    },
    {
      "cell_type": "markdown",
      "metadata": {
        "id": "xfaw10xcAZYe"
      },
      "source": [
        "#**Below we are changing the null values in winner_ht & loser_ht columns of Female players to its mean.**"
      ]
    },
    {
      "cell_type": "code",
      "metadata": {
        "id": "mu3JatbdD0GC"
      },
      "source": [
        "mean_floser_ht = new_female_data['loser_ht'].mean()\n",
        "print(mean_floser_ht)\n",
        "new_female_data.loser_ht.fillna(mean_floser_ht, inplace=True)"
      ],
      "execution_count": null,
      "outputs": []
    },
    {
      "cell_type": "code",
      "metadata": {
        "id": "-qtlwc4G38OH"
      },
      "source": [
        "mean_fwinner_ht = new_female_data['winner_ht'].mean()\n",
        "print(mean_fwinner_ht)\n",
        "new_female_data.winner_ht.fillna(mean_fwinner_ht, inplace=True)"
      ],
      "execution_count": null,
      "outputs": []
    },
    {
      "cell_type": "markdown",
      "metadata": {
        "id": "81zUbjCRAizm"
      },
      "source": [
        "**3. Data reduction**\n",
        "The more data you’re working with, the harder it will be to analyze, even after cleaning and transforming it. Depending on your task at hand, you may actually have more data than you need. Data reduction not only makes the analysis easier and more accurate, but cuts down on data storage.\n",
        "\n",
        "It will also help identify the most important features to the process at hand.\n",
        "\n",
        "Attribute selection: Similar to discreditization, attribute selection can fit your data into smaller pools. It, essentially, combines tags or features, so that tags like male/female and professor could be combined into male professor/female professor.\n",
        "\n",
        "Numerosity reduction: This will help with data storage and transmission. You can use a regression model, for example, to use only the data and variables that are relevant to your analysis.\n",
        "\n",
        "Dimensionality reduction: This, again, reduces the amount of data used to help facilitate analysis and downstream processes. Algorithms like K-nearest neighbors use pattern recognition to combine similar data and make it more manageable.\n",
        "\n",
        "\n",
        "#**We will now drop all the columns from the Male and Female Players Dataframes to reduce our dataset and make it more efficient for our Descriptive Analysis.**"
      ]
    },
    {
      "cell_type": "code",
      "metadata": {
        "id": "qnNL6ioRA4PE",
        "colab": {
          "base_uri": "https://localhost:8080/",
          "height": 706
        },
        "outputId": "13f2dfc1-5c24-4378-eab6-b0763a25bbd7"
      },
      "source": [
        "new_female_data.drop(new_female_data.columns.difference(['tourney_name','surface' , 'winner_name' , 'winner_hand' , 'winner_age' , 'winner_ht' , 'winner_ioc' , 'loser_name' , 'loser_hand' , 'loser_age' , 'loser_ht' , 'loser_ioc' ,'round']), 1, inplace=False)\n"
      ],
      "execution_count": 163,
      "outputs": [
        {
          "output_type": "execute_result",
          "data": {
            "text/html": [
              "<div>\n",
              "<style scoped>\n",
              "    .dataframe tbody tr th:only-of-type {\n",
              "        vertical-align: middle;\n",
              "    }\n",
              "\n",
              "    .dataframe tbody tr th {\n",
              "        vertical-align: top;\n",
              "    }\n",
              "\n",
              "    .dataframe thead th {\n",
              "        text-align: right;\n",
              "    }\n",
              "</style>\n",
              "<table border=\"1\" class=\"dataframe\">\n",
              "  <thead>\n",
              "    <tr style=\"text-align: right;\">\n",
              "      <th></th>\n",
              "      <th>tourney_name</th>\n",
              "      <th>surface</th>\n",
              "      <th>winner_name</th>\n",
              "      <th>winner_hand</th>\n",
              "      <th>winner_ht</th>\n",
              "      <th>winner_ioc</th>\n",
              "      <th>winner_age</th>\n",
              "      <th>loser_name</th>\n",
              "      <th>loser_hand</th>\n",
              "      <th>loser_ht</th>\n",
              "      <th>loser_ioc</th>\n",
              "      <th>loser_age</th>\n",
              "      <th>round</th>\n",
              "    </tr>\n",
              "  </thead>\n",
              "  <tbody>\n",
              "    <tr>\n",
              "      <th>0</th>\n",
              "      <td>Australian Open</td>\n",
              "      <td>Grass</td>\n",
              "      <td>Caroline Langsford</td>\n",
              "      <td>U</td>\n",
              "      <td>172.67122</td>\n",
              "      <td>AUS</td>\n",
              "      <td>23.521973</td>\n",
              "      <td>Sally Irvine</td>\n",
              "      <td>U</td>\n",
              "      <td>172.294313</td>\n",
              "      <td>AUS</td>\n",
              "      <td>23.444970</td>\n",
              "      <td>R64</td>\n",
              "    </tr>\n",
              "    <tr>\n",
              "      <th>1</th>\n",
              "      <td>Australian Open</td>\n",
              "      <td>Grass</td>\n",
              "      <td>Helen Amos</td>\n",
              "      <td>U</td>\n",
              "      <td>172.67122</td>\n",
              "      <td>AUS</td>\n",
              "      <td>21.555099</td>\n",
              "      <td>Caroline Cooper</td>\n",
              "      <td>U</td>\n",
              "      <td>172.294313</td>\n",
              "      <td>AUS</td>\n",
              "      <td>23.444970</td>\n",
              "      <td>R64</td>\n",
              "    </tr>\n",
              "    <tr>\n",
              "      <th>2</th>\n",
              "      <td>Australian Open</td>\n",
              "      <td>Grass</td>\n",
              "      <td>Norma Marsh</td>\n",
              "      <td>U</td>\n",
              "      <td>172.67122</td>\n",
              "      <td>AUS</td>\n",
              "      <td>34.017796</td>\n",
              "      <td>Sharon Thomson</td>\n",
              "      <td>U</td>\n",
              "      <td>172.294313</td>\n",
              "      <td>AUS</td>\n",
              "      <td>23.444970</td>\n",
              "      <td>R64</td>\n",
              "    </tr>\n",
              "    <tr>\n",
              "      <th>3</th>\n",
              "      <td>Australian Open</td>\n",
              "      <td>Grass</td>\n",
              "      <td>Vicki Lancaster Kerr</td>\n",
              "      <td>U</td>\n",
              "      <td>172.67122</td>\n",
              "      <td>AUS</td>\n",
              "      <td>18.981520</td>\n",
              "      <td>Theresa Van Haren</td>\n",
              "      <td>U</td>\n",
              "      <td>172.294313</td>\n",
              "      <td>AUS</td>\n",
              "      <td>23.444970</td>\n",
              "      <td>R64</td>\n",
              "    </tr>\n",
              "    <tr>\n",
              "      <th>4</th>\n",
              "      <td>Australian Open</td>\n",
              "      <td>Grass</td>\n",
              "      <td>Sandra Walsham</td>\n",
              "      <td>U</td>\n",
              "      <td>172.67122</td>\n",
              "      <td>AUS</td>\n",
              "      <td>23.521973</td>\n",
              "      <td>Judy Harris</td>\n",
              "      <td>U</td>\n",
              "      <td>172.294313</td>\n",
              "      <td>AUS</td>\n",
              "      <td>23.444970</td>\n",
              "      <td>R64</td>\n",
              "    </tr>\n",
              "    <tr>\n",
              "      <th>...</th>\n",
              "      <td>...</td>\n",
              "      <td>...</td>\n",
              "      <td>...</td>\n",
              "      <td>...</td>\n",
              "      <td>...</td>\n",
              "      <td>...</td>\n",
              "      <td>...</td>\n",
              "      <td>...</td>\n",
              "      <td>...</td>\n",
              "      <td>...</td>\n",
              "      <td>...</td>\n",
              "      <td>...</td>\n",
              "      <td>...</td>\n",
              "    </tr>\n",
              "    <tr>\n",
              "      <th>143752</th>\n",
              "      <td>BJK Cup Playoffs: NED vs CHN</td>\n",
              "      <td>Clay</td>\n",
              "      <td>Arantxa Rus</td>\n",
              "      <td>L</td>\n",
              "      <td>180.00000</td>\n",
              "      <td>NED</td>\n",
              "      <td>30.343600</td>\n",
              "      <td>Xin Yu Wang</td>\n",
              "      <td>R</td>\n",
              "      <td>182.000000</td>\n",
              "      <td>CHN</td>\n",
              "      <td>19.556468</td>\n",
              "      <td>RR</td>\n",
              "    </tr>\n",
              "    <tr>\n",
              "      <th>143753</th>\n",
              "      <td>BJK Cup Playoffs: ROU vs ITA</td>\n",
              "      <td>Hard</td>\n",
              "      <td>Elisabetta Cocciaretto</td>\n",
              "      <td>R</td>\n",
              "      <td>172.67122</td>\n",
              "      <td>ITA</td>\n",
              "      <td>20.224504</td>\n",
              "      <td>Irina Maria Bara</td>\n",
              "      <td>R</td>\n",
              "      <td>172.294313</td>\n",
              "      <td>ROU</td>\n",
              "      <td>26.083504</td>\n",
              "      <td>RR</td>\n",
              "    </tr>\n",
              "    <tr>\n",
              "      <th>143754</th>\n",
              "      <td>BJK Cup Playoffs: ROU vs ITA</td>\n",
              "      <td>Hard</td>\n",
              "      <td>Martina Trevisan</td>\n",
              "      <td>L</td>\n",
              "      <td>160.00000</td>\n",
              "      <td>ITA</td>\n",
              "      <td>27.452430</td>\n",
              "      <td>Mihaela Buzarnescu</td>\n",
              "      <td>L</td>\n",
              "      <td>172.294313</td>\n",
              "      <td>ROU</td>\n",
              "      <td>32.952772</td>\n",
              "      <td>RR</td>\n",
              "    </tr>\n",
              "    <tr>\n",
              "      <th>143755</th>\n",
              "      <td>BJK Cup Playoffs: ROU vs ITA</td>\n",
              "      <td>Hard</td>\n",
              "      <td>Elena Gabriela Ruse</td>\n",
              "      <td>U</td>\n",
              "      <td>172.67122</td>\n",
              "      <td>ROU</td>\n",
              "      <td>23.444216</td>\n",
              "      <td>Jasmine Paolini</td>\n",
              "      <td>R</td>\n",
              "      <td>172.294313</td>\n",
              "      <td>ITA</td>\n",
              "      <td>25.284052</td>\n",
              "      <td>RR</td>\n",
              "    </tr>\n",
              "    <tr>\n",
              "      <th>143756</th>\n",
              "      <td>BJK Cup Playoffs: ROU vs ITA</td>\n",
              "      <td>Hard</td>\n",
              "      <td>Elisabetta Cocciaretto</td>\n",
              "      <td>R</td>\n",
              "      <td>172.67122</td>\n",
              "      <td>ITA</td>\n",
              "      <td>20.224504</td>\n",
              "      <td>Mihaela Buzarnescu</td>\n",
              "      <td>L</td>\n",
              "      <td>172.294313</td>\n",
              "      <td>ROU</td>\n",
              "      <td>32.952772</td>\n",
              "      <td>RR</td>\n",
              "    </tr>\n",
              "  </tbody>\n",
              "</table>\n",
              "<p>143757 rows × 13 columns</p>\n",
              "</div>"
            ],
            "text/plain": [
              "                        tourney_name surface  ...  loser_age round\n",
              "0                    Australian Open   Grass  ...  23.444970   R64\n",
              "1                    Australian Open   Grass  ...  23.444970   R64\n",
              "2                    Australian Open   Grass  ...  23.444970   R64\n",
              "3                    Australian Open   Grass  ...  23.444970   R64\n",
              "4                    Australian Open   Grass  ...  23.444970   R64\n",
              "...                              ...     ...  ...        ...   ...\n",
              "143752  BJK Cup Playoffs: NED vs CHN    Clay  ...  19.556468    RR\n",
              "143753  BJK Cup Playoffs: ROU vs ITA    Hard  ...  26.083504    RR\n",
              "143754  BJK Cup Playoffs: ROU vs ITA    Hard  ...  32.952772    RR\n",
              "143755  BJK Cup Playoffs: ROU vs ITA    Hard  ...  25.284052    RR\n",
              "143756  BJK Cup Playoffs: ROU vs ITA    Hard  ...  32.952772    RR\n",
              "\n",
              "[143757 rows x 13 columns]"
            ]
          },
          "metadata": {},
          "execution_count": 163
        }
      ]
    },
    {
      "cell_type": "code",
      "metadata": {
        "id": "AGgNbd0zP9WF",
        "colab": {
          "base_uri": "https://localhost:8080/",
          "height": 588
        },
        "outputId": "7433cc03-d541-4dd9-a3af-8ddd6c90506f"
      },
      "source": [
        "new_male_data.drop(new_male_data.columns.difference(['tourney_name','surface' , 'winner_name' , 'winner_hand' , 'winner_age' , 'winner_ht' , 'winner_ioc' , 'loser_name' , 'loser_hand' , 'loser_age' , 'loser_ht' , 'loser_ioc','round' ]), 1, inplace=False)"
      ],
      "execution_count": 164,
      "outputs": [
        {
          "output_type": "execute_result",
          "data": {
            "text/html": [
              "<div>\n",
              "<style scoped>\n",
              "    .dataframe tbody tr th:only-of-type {\n",
              "        vertical-align: middle;\n",
              "    }\n",
              "\n",
              "    .dataframe tbody tr th {\n",
              "        vertical-align: top;\n",
              "    }\n",
              "\n",
              "    .dataframe thead th {\n",
              "        text-align: right;\n",
              "    }\n",
              "</style>\n",
              "<table border=\"1\" class=\"dataframe\">\n",
              "  <thead>\n",
              "    <tr style=\"text-align: right;\">\n",
              "      <th></th>\n",
              "      <th>tourney_name</th>\n",
              "      <th>surface</th>\n",
              "      <th>winner_name</th>\n",
              "      <th>winner_hand</th>\n",
              "      <th>winner_ht</th>\n",
              "      <th>winner_ioc</th>\n",
              "      <th>winner_age</th>\n",
              "      <th>loser_name</th>\n",
              "      <th>loser_hand</th>\n",
              "      <th>loser_ht</th>\n",
              "      <th>loser_ioc</th>\n",
              "      <th>loser_age</th>\n",
              "      <th>round</th>\n",
              "    </tr>\n",
              "  </thead>\n",
              "  <tbody>\n",
              "    <tr>\n",
              "      <th>0</th>\n",
              "      <td>Dublin</td>\n",
              "      <td>Grass</td>\n",
              "      <td>Graham Stilwell</td>\n",
              "      <td>R</td>\n",
              "      <td>173.000000</td>\n",
              "      <td>GBR</td>\n",
              "      <td>24.637919</td>\n",
              "      <td>Kenneth Reid</td>\n",
              "      <td>U</td>\n",
              "      <td>184.217894</td>\n",
              "      <td>IRL</td>\n",
              "      <td>25.733056</td>\n",
              "      <td>R32</td>\n",
              "    </tr>\n",
              "    <tr>\n",
              "      <th>1</th>\n",
              "      <td>Dublin</td>\n",
              "      <td>Grass</td>\n",
              "      <td>Harry Sheridan</td>\n",
              "      <td>U</td>\n",
              "      <td>184.449588</td>\n",
              "      <td>IRL</td>\n",
              "      <td>25.679201</td>\n",
              "      <td>B Sweeney</td>\n",
              "      <td>U</td>\n",
              "      <td>184.217894</td>\n",
              "      <td>IRL</td>\n",
              "      <td>25.733056</td>\n",
              "      <td>R32</td>\n",
              "    </tr>\n",
              "    <tr>\n",
              "      <th>2</th>\n",
              "      <td>Dublin</td>\n",
              "      <td>Grass</td>\n",
              "      <td>Tony Roche</td>\n",
              "      <td>L</td>\n",
              "      <td>178.000000</td>\n",
              "      <td>AUS</td>\n",
              "      <td>25.136208</td>\n",
              "      <td>James Buckley</td>\n",
              "      <td>U</td>\n",
              "      <td>184.217894</td>\n",
              "      <td>IRL</td>\n",
              "      <td>33.223819</td>\n",
              "      <td>R32</td>\n",
              "    </tr>\n",
              "    <tr>\n",
              "      <th>3</th>\n",
              "      <td>Dublin</td>\n",
              "      <td>Grass</td>\n",
              "      <td>Marty Riessen</td>\n",
              "      <td>R</td>\n",
              "      <td>185.000000</td>\n",
              "      <td>USA</td>\n",
              "      <td>28.585900</td>\n",
              "      <td>Frank Mcardle</td>\n",
              "      <td>U</td>\n",
              "      <td>184.217894</td>\n",
              "      <td>IRL</td>\n",
              "      <td>25.733056</td>\n",
              "      <td>R32</td>\n",
              "    </tr>\n",
              "    <tr>\n",
              "      <th>4</th>\n",
              "      <td>Dublin</td>\n",
              "      <td>Grass</td>\n",
              "      <td>Tom Okker</td>\n",
              "      <td>R</td>\n",
              "      <td>178.000000</td>\n",
              "      <td>NED</td>\n",
              "      <td>26.368241</td>\n",
              "      <td>T Grane</td>\n",
              "      <td>U</td>\n",
              "      <td>184.217894</td>\n",
              "      <td>NaN</td>\n",
              "      <td>25.733056</td>\n",
              "      <td>R32</td>\n",
              "    </tr>\n",
              "    <tr>\n",
              "      <th>...</th>\n",
              "      <td>...</td>\n",
              "      <td>...</td>\n",
              "      <td>...</td>\n",
              "      <td>...</td>\n",
              "      <td>...</td>\n",
              "      <td>...</td>\n",
              "      <td>...</td>\n",
              "      <td>...</td>\n",
              "      <td>...</td>\n",
              "      <td>...</td>\n",
              "      <td>...</td>\n",
              "      <td>...</td>\n",
              "      <td>...</td>\n",
              "    </tr>\n",
              "    <tr>\n",
              "      <th>176453</th>\n",
              "      <td>Nur-Sultan</td>\n",
              "      <td>Hard</td>\n",
              "      <td>Lorenzo Musetti</td>\n",
              "      <td>R</td>\n",
              "      <td>185.000000</td>\n",
              "      <td>ITA</td>\n",
              "      <td>19.550992</td>\n",
              "      <td>Marc Polmans</td>\n",
              "      <td>R</td>\n",
              "      <td>184.217894</td>\n",
              "      <td>AUS</td>\n",
              "      <td>24.386037</td>\n",
              "      <td>R32</td>\n",
              "    </tr>\n",
              "    <tr>\n",
              "      <th>176454</th>\n",
              "      <td>Nur-Sultan</td>\n",
              "      <td>Hard</td>\n",
              "      <td>Soon Woo Kwon</td>\n",
              "      <td>R</td>\n",
              "      <td>180.000000</td>\n",
              "      <td>KOR</td>\n",
              "      <td>23.800137</td>\n",
              "      <td>Evgeny Donskoy</td>\n",
              "      <td>R</td>\n",
              "      <td>185.000000</td>\n",
              "      <td>RUS</td>\n",
              "      <td>31.367556</td>\n",
              "      <td>R32</td>\n",
              "    </tr>\n",
              "    <tr>\n",
              "      <th>176455</th>\n",
              "      <td>Nur-Sultan</td>\n",
              "      <td>Hard</td>\n",
              "      <td>Egor Gerasimov</td>\n",
              "      <td>R</td>\n",
              "      <td>196.000000</td>\n",
              "      <td>BLR</td>\n",
              "      <td>28.856947</td>\n",
              "      <td>Benoit Paire</td>\n",
              "      <td>R</td>\n",
              "      <td>196.000000</td>\n",
              "      <td>FRA</td>\n",
              "      <td>32.369610</td>\n",
              "      <td>R32</td>\n",
              "    </tr>\n",
              "    <tr>\n",
              "      <th>176456</th>\n",
              "      <td>Nur-Sultan</td>\n",
              "      <td>Hard</td>\n",
              "      <td>Carlos Taberner</td>\n",
              "      <td>R</td>\n",
              "      <td>184.449588</td>\n",
              "      <td>ESP</td>\n",
              "      <td>24.117728</td>\n",
              "      <td>Ricardas Berankis</td>\n",
              "      <td>R</td>\n",
              "      <td>175.000000</td>\n",
              "      <td>LTU</td>\n",
              "      <td>31.249829</td>\n",
              "      <td>R32</td>\n",
              "    </tr>\n",
              "    <tr>\n",
              "      <th>176457</th>\n",
              "      <td>Nur-Sultan</td>\n",
              "      <td>Hard</td>\n",
              "      <td>Miomir Kecmanovic</td>\n",
              "      <td>R</td>\n",
              "      <td>183.000000</td>\n",
              "      <td>SRB</td>\n",
              "      <td>22.056126</td>\n",
              "      <td>Fernando Verdasco</td>\n",
              "      <td>L</td>\n",
              "      <td>188.000000</td>\n",
              "      <td>ESP</td>\n",
              "      <td>37.848049</td>\n",
              "      <td>R32</td>\n",
              "    </tr>\n",
              "  </tbody>\n",
              "</table>\n",
              "<p>176458 rows × 13 columns</p>\n",
              "</div>"
            ],
            "text/plain": [
              "       tourney_name surface        winner_name  ... loser_ioc  loser_age round\n",
              "0            Dublin   Grass    Graham Stilwell  ...       IRL  25.733056   R32\n",
              "1            Dublin   Grass     Harry Sheridan  ...       IRL  25.733056   R32\n",
              "2            Dublin   Grass         Tony Roche  ...       IRL  33.223819   R32\n",
              "3            Dublin   Grass      Marty Riessen  ...       IRL  25.733056   R32\n",
              "4            Dublin   Grass          Tom Okker  ...       NaN  25.733056   R32\n",
              "...             ...     ...                ...  ...       ...        ...   ...\n",
              "176453   Nur-Sultan    Hard    Lorenzo Musetti  ...       AUS  24.386037   R32\n",
              "176454   Nur-Sultan    Hard      Soon Woo Kwon  ...       RUS  31.367556   R32\n",
              "176455   Nur-Sultan    Hard     Egor Gerasimov  ...       FRA  32.369610   R32\n",
              "176456   Nur-Sultan    Hard    Carlos Taberner  ...       LTU  31.249829   R32\n",
              "176457   Nur-Sultan    Hard  Miomir Kecmanovic  ...       ESP  37.848049   R32\n",
              "\n",
              "[176458 rows x 13 columns]"
            ]
          },
          "metadata": {},
          "execution_count": 164
        }
      ]
    },
    {
      "cell_type": "markdown",
      "metadata": {
        "id": "w9Ugc6sMB4eX"
      },
      "source": [
        "#**Plotting some graphs to better understand our datasets**"
      ]
    },
    {
      "cell_type": "code",
      "metadata": {
        "id": "Lvfxh4J3WFrr",
        "colab": {
          "base_uri": "https://localhost:8080/",
          "height": 663
        },
        "outputId": "c65d33f6-726e-404d-88c7-6b68036a47b1"
      },
      "source": [
        "\n",
        "new_male_data.winner_ioc.fillna('Test', inplace=True)\n",
        "plt.figure(figsize=(10, 8), dpi=80)\n",
        "plt_1 = new_male_data[['surface','winner_ioc','winner_id']].groupby(['surface','winner_ioc']).size().reset_index(name='counts').sort_values('counts',ascending=False).head(10)\n",
        "\n",
        "N = 50\n",
        "x = plt_1['surface']\n",
        "y = plt_1['winner_ioc']\n",
        "s=plt_1['counts']\n",
        "#colors = np.random.rand(len())\n",
        "\n",
        "plt.scatter(x, y,s, alpha=0.5)\n",
        "\n",
        "plt.title('SURFACE VS COUNTRY', fontsize=18)\n",
        "plt.xlabel(\"TYPE OF SURFACE\", fontsize=18)\n",
        "plt.ylabel(\"COUNTRY\", fontsize=18)\n",
        "\n",
        "plt.show()"
      ],
      "execution_count": 161,
      "outputs": [
        {
          "output_type": "stream",
          "name": "stderr",
          "text": [
            "/usr/local/lib/python3.7/dist-packages/pandas/core/series.py:4536: SettingWithCopyWarning: \n",
            "A value is trying to be set on a copy of a slice from a DataFrame\n",
            "\n",
            "See the caveats in the documentation: https://pandas.pydata.org/pandas-docs/stable/user_guide/indexing.html#returning-a-view-versus-a-copy\n",
            "  downcast=downcast,\n"
          ]
        },
        {
          "output_type": "display_data",
          "data": {
            "image/png": "[encoded data removed]",
            "text/plain": [
              "<Figure size 800x640 with 1 Axes>"
            ]
          },
          "metadata": {
            "needs_background": "light"
          }
        }
      ]
    },
    {
      "cell_type": "markdown",
      "metadata": {
        "id": "uekHWL6a3c05"
      },
      "source": [
        "**The above graph gives a view of country vs surface which can help us understand which country plays better on which surface. This can help us understand where players of a certain country need to improve. Eg: USA plays very good on Hard surfaces as compared to Grass. This shows us that players in United States need to focus on Grass courts more.**"
      ]
    },
    {
      "cell_type": "code",
      "metadata": {
        "colab": {
          "base_uri": "https://localhost:8080/",
          "height": 601
        },
        "id": "TCvvFXpM8Ypj",
        "outputId": "482ed06c-762e-4549-f517-23d93f874d93"
      },
      "source": [
        "plt_2 = new_male_data[new_male_data['round'] == 'F']\n",
        "\n",
        "conditions = [\n",
        "    (plt_2['winner_age'] >=20) & (plt_2['winner_age'] <25),\n",
        "    (plt_2['winner_age'] >=25) & (plt_2['winner_age'] <30),\n",
        "    (plt_2['winner_age'] >=30) & (plt_2['winner_age'] <35),\n",
        "    (plt_2['winner_age'] >35)  ]\n",
        "\n",
        "values = ['20 to 25', '25 to 30', '30 to 35', '35+']\n",
        "plt_2['AgeGroup'] = np.select(conditions, values)\n",
        "plt_2 = plt_2[['AgeGroup','tourney_date']]\n",
        "plt_2['tourney_date'] = plt_2['tourney_date']//10000\n",
        "plt_2 = plt_2.groupby(['AgeGroup','tourney_date']).size().reset_index(name='counts').sort_values('counts',ascending=False)\n",
        "plt_2 = plt_2[plt_2['tourney_date'] >= 1970]\n",
        "\n",
        "plt_2_1 = plt_2[plt_2['AgeGroup'] == '20 to 25']\n",
        "plt_2_2 = plt_2[plt_2['AgeGroup'] == '25 to 30']\n",
        "plt_2_3 = plt_2[plt_2['AgeGroup'] == '30 to 35']\n",
        "plt_2_4 = plt_2[plt_2['AgeGroup'] == '35+']\n",
        "\n",
        "\n",
        "plt.bar(plt_2_1['tourney_date'],plt_2_1['counts'],color = 'blue')\n",
        "plt.bar(plt_2_2['tourney_date'],plt_2_2['counts'],color = 'red')\n",
        "plt.bar(plt_2_3['tourney_date'],plt_2_3['counts'],color = 'green')\n",
        "plt.bar(plt_2_4['tourney_date'],plt_2_4['counts'],color = 'orange')\n",
        "\n",
        "plt.title('WINNING AGE GROUP MALE PLAYERS', fontsize=18)\n",
        "plt.xlabel(\"YEAR\", fontsize=18)\n",
        "plt.ylabel(\"NO. OF PLAYERS\", fontsize=18)\n",
        "\n",
        "plt.legend(values)\n",
        "\n",
        "plt.show()"
      ],
      "execution_count": 158,
      "outputs": [
        {
          "output_type": "stream",
          "name": "stderr",
          "text": [
            "/usr/local/lib/python3.7/dist-packages/ipykernel_launcher.py:10: SettingWithCopyWarning: \n",
            "A value is trying to be set on a copy of a slice from a DataFrame.\n",
            "Try using .loc[row_indexer,col_indexer] = value instead\n",
            "\n",
            "See the caveats in the documentation: https://pandas.pydata.org/pandas-docs/stable/user_guide/indexing.html#returning-a-view-versus-a-copy\n",
            "  # Remove the CWD from sys.path while we load stuff.\n"
          ]
        },
        {
          "output_type": "display_data",
          "data": {
            "image/png": "[encoded data removed]",
            "text/plain": [
              "<Figure size 1440x576 with 1 Axes>"
            ]
          },
          "metadata": {
            "needs_background": "light"
          }
        }
      ]
    },
    {
      "cell_type": "markdown",
      "metadata": {
        "id": "baC_xR244spP"
      },
      "source": [
        "**The above graph gives a view of age vs year of male players, which shows us which age group performed well given an year. The colors represent the following**\n",
        "\n",
        "**1. Blue : Ages 20 to 25**\n",
        "\n",
        "**2. Red: Ages 25 to 30**\n",
        "\n",
        "**3. Green: Ages 30 to 35**\n",
        "\n",
        "**4. Orange: Ages 35 and above**\n",
        "\n",
        "**As we can see, players between the ages of 25 and 30 had consistent wins in games as compared to other age groups.**\n",
        "\n",
        "**Age group 20 to 25 had some years with higher win percentage but weren't consistent for long.**\n",
        "\n",
        "**Age groups 30 to 35 and 35 and above had the worst win percentages.**"
      ]
    },
    {
      "cell_type": "code",
      "metadata": {
        "colab": {
          "base_uri": "https://localhost:8080/",
          "height": 601
        },
        "id": "1DdQgy_RDZ-j",
        "outputId": "dc6b047e-c63d-4d46-ba2a-c9eb001c9d47"
      },
      "source": [
        "plt_2 = new_female_data[new_female_data['round'] == 'F']\n",
        "\n",
        "conditions = [\n",
        "    (plt_2['winner_age'] >=20) & (plt_2['winner_age'] <25),\n",
        "    (plt_2['winner_age'] >=25) & (plt_2['winner_age'] <30),\n",
        "    (plt_2['winner_age'] >=30) & (plt_2['winner_age'] <35),\n",
        "    (plt_2['winner_age'] >35)  ]\n",
        "\n",
        "values = ['20 to 25', '25 to 30', '30 to 35', '35+']\n",
        "plt_2['AgeGroup'] = np.select(conditions, values)\n",
        "plt_2 = plt_2[['AgeGroup','tourney_date']]\n",
        "plt_2['tourney_date'] = plt_2['tourney_date']//10000\n",
        "plt_2 = plt_2.groupby(['AgeGroup','tourney_date']).size().reset_index(name='counts').sort_values('counts',ascending=False)\n",
        "plt_2 = plt_2[plt_2['tourney_date'] >= 1970]\n",
        "\n",
        "plt_2_1 = plt_2[plt_2['AgeGroup'] == '20 to 25']\n",
        "plt_2_2 = plt_2[plt_2['AgeGroup'] == '25 to 30']\n",
        "plt_2_3 = plt_2[plt_2['AgeGroup'] == '30 to 35']\n",
        "plt_2_4 = plt_2[plt_2['AgeGroup'] == '35+']\n",
        "\n",
        "\n",
        "plt.bar(plt_2_1['tourney_date'],plt_2_1['counts'],color = 'blue')\n",
        "plt.bar(plt_2_2['tourney_date'],plt_2_2['counts'],color = 'red')\n",
        "plt.bar(plt_2_3['tourney_date'],plt_2_3['counts'],color = 'green')\n",
        "plt.bar(plt_2_4['tourney_date'],plt_2_4['counts'],color = 'orange')\n",
        "\n",
        "plt.title('WINNING AGE GROUP FEMALE PLAYERS', fontsize=18)\n",
        "plt.xlabel(\"YEAR\", fontsize=18)\n",
        "plt.ylabel(\"NO. OF PLAYERS\", fontsize=18)\n",
        "\n",
        "plt.legend(values)\n",
        "\n",
        "plt.show()"
      ],
      "execution_count": 160,
      "outputs": [
        {
          "output_type": "stream",
          "name": "stderr",
          "text": [
            "/usr/local/lib/python3.7/dist-packages/ipykernel_launcher.py:10: SettingWithCopyWarning: \n",
            "A value is trying to be set on a copy of a slice from a DataFrame.\n",
            "Try using .loc[row_indexer,col_indexer] = value instead\n",
            "\n",
            "See the caveats in the documentation: https://pandas.pydata.org/pandas-docs/stable/user_guide/indexing.html#returning-a-view-versus-a-copy\n",
            "  # Remove the CWD from sys.path while we load stuff.\n"
          ]
        },
        {
          "output_type": "display_data",
          "data": {
            "image/png": "[encoded data removed]",
            "text/plain": [
              "<Figure size 1440x576 with 1 Axes>"
            ]
          },
          "metadata": {
            "needs_background": "light"
          }
        }
      ]
    },
    {
      "cell_type": "markdown",
      "metadata": {
        "id": "m5EE7ZrBD4Rr"
      },
      "source": [
        "**The above graph gives a view of age vs year of female players, which shows us which age group performed well given an year. The colors represent the following**\n",
        "\n",
        "**1. Blue : Ages 20 to 25**\n",
        "\n",
        "**2. Red: Ages 25 to 30**\n",
        "\n",
        "**3. Green: Ages 30 to 35**\n",
        "\n",
        "**4. Orange: Ages 35 and above**\n",
        "\n",
        "**We can conclude that female players are more likely to win when they are in the age group of 20 to 25, not consistent, but this age group has the maximum wins overall.**\n",
        "\n",
        "**Female players are leaste likely to play and win with age above 35.**"
      ]
    },
    {
      "cell_type": "markdown",
      "metadata": {
        "id": "hIsDPscBIg4y"
      },
      "source": [
        "\n",
        "\n",
        "---\n",
        "\n",
        "\n",
        "\n",
        "---\n",
        "\n"
      ]
    },
    {
      "cell_type": "markdown",
      "metadata": {
        "id": "mbsO-m5fIlz1"
      },
      "source": [
        "#**FURTHER ANALYSIS WILL BE DONE USING VARIOUS DECRIPTIVE ANALYSIS METHODS PROVIDED DURING THE MODEL PLANNING. WE TEND TO INCLUDE MANY MORE GRAPHS AND CHARTS TO UNDERSTAND WHY CERTAIN FACTOR IS INFLUENCING THE CHANGE IN THE TREND OF ALL MALE AND FEMALE PLAYERS WINNING THE CHAMPIONSHIP.**"
      ]
    }
  ]
}