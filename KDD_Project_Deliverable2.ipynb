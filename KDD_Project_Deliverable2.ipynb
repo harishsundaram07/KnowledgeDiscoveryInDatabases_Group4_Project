{
  "nbformat": 4,
  "nbformat_minor": 0,
  "metadata": {
    "colab": {
      "name": "KDD_Project_Deliverable2.ipynb",
      "provenance": [],
      "include_colab_link": true
    },
    "kernelspec": {
      "name": "python3",
      "display_name": "Python 3"
    },
    "language_info": {
      "name": "python"
    }
  },
  "cells": [
    {
      "cell_type": "markdown",
      "metadata": {
        "id": "view-in-github",
        "colab_type": "text"
      },
      "source": [
        "<a href=\"https://colab.research.google.com/github/harishsundaram07/KnowledgeDiscoveryInDatabases_Group4_Project/blob/main/KDD_Project_Deliverable2.ipynb\" target=\"_parent\"><img src=\"https://colab.research.google.com/assets/colab-badge.svg\" alt=\"Open In Colab\"/></a>"
      ]
    },
    {
      "cell_type": "markdown",
      "metadata": {
        "id": "k9qpYpEIVXkm"
      },
      "source": [
        "importing all necessary libraries"
      ]
    },
    {
      "cell_type": "code",
      "metadata": {
        "id": "aoojlZTXgOLn"
      },
      "source": [
        "import pandas as pd\n",
        "from glob import glob"
      ],
      "execution_count": 1,
      "outputs": []
    },
    {
      "cell_type": "markdown",
      "metadata": {
        "id": "TAmj43vRVgrX"
      },
      "source": [
        "reading all the datafiles for the male players"
      ]
    },
    {
      "cell_type": "code",
      "metadata": {
        "id": "NdLbuZNh3pvE"
      },
      "source": [
        ""
      ],
      "execution_count": 1,
      "outputs": []
    },
    {
      "cell_type": "code",
      "metadata": {
        "id": "dYmPvdWqQHXp"
      },
      "source": [
        "male_files = glob(\"atp*\")"
      ],
      "execution_count": 2,
      "outputs": []
    },
    {
      "cell_type": "code",
      "metadata": {
        "colab": {
          "base_uri": "https://localhost:8080/"
        },
        "id": "t-ZuWc5cQVvz",
        "outputId": "3b7703c0-4def-4ed2-f66c-c9372ca0fa2d"
      },
      "source": [
        "male_files"
      ],
      "execution_count": 3,
      "outputs": [
        {
          "output_type": "execute_result",
          "data": {
            "text/plain": [
              "['atp_matches_2008.csv',\n",
              " 'atp_matches_2012.csv',\n",
              " 'atp_matches_1999.csv',\n",
              " 'atp_matches_2002.csv',\n",
              " 'atp_matches_1994.csv',\n",
              " 'atp_matches_1974.csv',\n",
              " 'atp_matches_1976.csv',\n",
              " 'atp_matches_1998.csv',\n",
              " 'atp_matches_2004.csv',\n",
              " 'atp_matches_1977.csv',\n",
              " 'atp_matches_1986.csv',\n",
              " 'atp_matches_1991.csv',\n",
              " 'atp_matches_2016.csv',\n",
              " 'atp_matches_2003.csv',\n",
              " 'atp_matches_1973.csv',\n",
              " 'atp_matches_2017.csv',\n",
              " 'atp_matches_2000.csv',\n",
              " 'atp_matches_2015.csv',\n",
              " 'atp_matches_2019.csv',\n",
              " 'atp_matches_1983.csv',\n",
              " 'atp_matches_1970.csv',\n",
              " 'atp_matches_2007.csv',\n",
              " 'atp_matches_2021.csv',\n",
              " 'atp_matches_1979.csv',\n",
              " 'atp_matches_2018.csv',\n",
              " 'atp_matches_1981.csv',\n",
              " 'atp_matches_2011.csv',\n",
              " 'atp_matches_1987.csv',\n",
              " 'atp_matches_1975.csv',\n",
              " 'atp_matches_1985.csv',\n",
              " 'atp_matches_1988.csv',\n",
              " 'atp_matches_1990.csv',\n",
              " 'atp_matches_2006.csv',\n",
              " 'atp_matches_1972.csv',\n",
              " 'atp_matches_1993.csv',\n",
              " 'atp_matches_2005.csv',\n",
              " 'atp_matches_1992.csv',\n",
              " 'atp_matches_2014.csv',\n",
              " 'atp_matches_1996.csv',\n",
              " 'atp_matches_1997.csv',\n",
              " 'atp_matches_2013.csv',\n",
              " 'atp_matches_2010.csv',\n",
              " 'atp_matches_1971.csv',\n",
              " 'atp_matches_2020.csv',\n",
              " 'atp_matches_1995.csv',\n",
              " 'atp_matches_1982.csv',\n",
              " 'atp_matches_1978.csv',\n",
              " 'atp_matches_2009.csv',\n",
              " 'atp_matches_2001.csv',\n",
              " 'atp_matches_1984.csv',\n",
              " 'atp_matches_1989.csv',\n",
              " 'atp_matches_1980.csv']"
            ]
          },
          "metadata": {},
          "execution_count": 3
        }
      ]
    },
    {
      "cell_type": "markdown",
      "metadata": {
        "id": "TxGXBYO3VmRQ"
      },
      "source": [
        "sorting the datafiles according to the year"
      ]
    },
    {
      "cell_type": "code",
      "metadata": {
        "colab": {
          "base_uri": "https://localhost:8080/"
        },
        "id": "c2toRivWQYLE",
        "outputId": "5692f200-f571-4f80-b457-ff967a2aa50f"
      },
      "source": [
        "male_files.sort()\n",
        "male_files"
      ],
      "execution_count": 4,
      "outputs": [
        {
          "output_type": "execute_result",
          "data": {
            "text/plain": [
              "['atp_matches_1970.csv',\n",
              " 'atp_matches_1971.csv',\n",
              " 'atp_matches_1972.csv',\n",
              " 'atp_matches_1973.csv',\n",
              " 'atp_matches_1974.csv',\n",
              " 'atp_matches_1975.csv',\n",
              " 'atp_matches_1976.csv',\n",
              " 'atp_matches_1977.csv',\n",
              " 'atp_matches_1978.csv',\n",
              " 'atp_matches_1979.csv',\n",
              " 'atp_matches_1980.csv',\n",
              " 'atp_matches_1981.csv',\n",
              " 'atp_matches_1982.csv',\n",
              " 'atp_matches_1983.csv',\n",
              " 'atp_matches_1984.csv',\n",
              " 'atp_matches_1985.csv',\n",
              " 'atp_matches_1986.csv',\n",
              " 'atp_matches_1987.csv',\n",
              " 'atp_matches_1988.csv',\n",
              " 'atp_matches_1989.csv',\n",
              " 'atp_matches_1990.csv',\n",
              " 'atp_matches_1991.csv',\n",
              " 'atp_matches_1992.csv',\n",
              " 'atp_matches_1993.csv',\n",
              " 'atp_matches_1994.csv',\n",
              " 'atp_matches_1995.csv',\n",
              " 'atp_matches_1996.csv',\n",
              " 'atp_matches_1997.csv',\n",
              " 'atp_matches_1998.csv',\n",
              " 'atp_matches_1999.csv',\n",
              " 'atp_matches_2000.csv',\n",
              " 'atp_matches_2001.csv',\n",
              " 'atp_matches_2002.csv',\n",
              " 'atp_matches_2003.csv',\n",
              " 'atp_matches_2004.csv',\n",
              " 'atp_matches_2005.csv',\n",
              " 'atp_matches_2006.csv',\n",
              " 'atp_matches_2007.csv',\n",
              " 'atp_matches_2008.csv',\n",
              " 'atp_matches_2009.csv',\n",
              " 'atp_matches_2010.csv',\n",
              " 'atp_matches_2011.csv',\n",
              " 'atp_matches_2012.csv',\n",
              " 'atp_matches_2013.csv',\n",
              " 'atp_matches_2014.csv',\n",
              " 'atp_matches_2015.csv',\n",
              " 'atp_matches_2016.csv',\n",
              " 'atp_matches_2017.csv',\n",
              " 'atp_matches_2018.csv',\n",
              " 'atp_matches_2019.csv',\n",
              " 'atp_matches_2020.csv',\n",
              " 'atp_matches_2021.csv']"
            ]
          },
          "metadata": {},
          "execution_count": 4
        }
      ]
    },
    {
      "cell_type": "markdown",
      "metadata": {
        "id": "RC4NBM24Vrbw"
      },
      "source": [
        "concatinating all the male players datafiles into a single dataframe"
      ]
    },
    {
      "cell_type": "code",
      "metadata": {
        "id": "Xk6biZQjQgoT"
      },
      "source": [
        "male_data = pd.concat ((pd.read_csv(file) for file in male_files), ignore_index= True)"
      ],
      "execution_count": 5,
      "outputs": []
    },
    {
      "cell_type": "code",
      "metadata": {
        "id": "s9a17am44G1d"
      },
      "source": [
        "from google.colab import drive\n",
        "drive.mount('/content/drive')"
      ],
      "execution_count": null,
      "outputs": []
    },
    {
      "cell_type": "markdown",
      "metadata": {
        "id": "BFKeJ9X9VygO"
      },
      "source": [
        "the final male players dataset:"
      ]
    },
    {
      "cell_type": "code",
      "metadata": {
        "id": "9WjqFLJXRU3P"
      },
      "source": [
        "male_data.head()"
      ],
      "execution_count": null,
      "outputs": []
    },
    {
      "cell_type": "code",
      "metadata": {
        "id": "JXf8kxdmoByJ"
      },
      "source": [
        "male_data.shape"
      ],
      "execution_count": null,
      "outputs": []
    },
    {
      "cell_type": "markdown",
      "metadata": {
        "id": "gwFCX2IpV49V"
      },
      "source": [
        "reading all the datafiles for the female players"
      ]
    },
    {
      "cell_type": "code",
      "metadata": {
        "id": "qbQjc8BuRWsl"
      },
      "source": [
        "female_files = glob(\"wta*\")"
      ],
      "execution_count": null,
      "outputs": []
    },
    {
      "cell_type": "code",
      "metadata": {
        "id": "psmJVM7ZR57B"
      },
      "source": [
        "female_files"
      ],
      "execution_count": null,
      "outputs": []
    },
    {
      "cell_type": "markdown",
      "metadata": {
        "id": "osapGmWNV8k2"
      },
      "source": [
        "sorting the datafiles according to the year"
      ]
    },
    {
      "cell_type": "code",
      "metadata": {
        "id": "zpgfFiHkR9vZ"
      },
      "source": [
        "female_files.sort()\n",
        "female_files"
      ],
      "execution_count": null,
      "outputs": []
    },
    {
      "cell_type": "markdown",
      "metadata": {
        "id": "pFawbI8EWEl1"
      },
      "source": [
        "concatinating all the female players datafiles into a single dataframe"
      ]
    },
    {
      "cell_type": "code",
      "metadata": {
        "id": "YMfaMIwJSAch"
      },
      "source": [
        "female_data = pd.concat ((pd.read_csv(file) for file in female_files), ignore_index= True)"
      ],
      "execution_count": null,
      "outputs": []
    },
    {
      "cell_type": "markdown",
      "metadata": {
        "id": "LQZNXzmUWKAT"
      },
      "source": [
        "the final female players dataset:"
      ]
    },
    {
      "cell_type": "code",
      "metadata": {
        "id": "h0H1usz1SBPe"
      },
      "source": [
        "female_data.head()"
      ],
      "execution_count": null,
      "outputs": []
    },
    {
      "cell_type": "code",
      "metadata": {
        "id": "TKh0xQOwoLei"
      },
      "source": [
        "female_data.shape"
      ],
      "execution_count": null,
      "outputs": []
    },
    {
      "cell_type": "markdown",
      "metadata": {
        "id": "4r-Ap8JmWSqK"
      },
      "source": [
        "Data Preprocessing Steps\n",
        "Below are the established steps we’ll need to go through to make sure our data is successfully preprocessed.\n",
        "\n",
        "1. Data quality assessment\n",
        "2. Data cleaning\n",
        "3. Data transformation\n",
        "4. Data reduction"
      ]
    },
    {
      "cell_type": "markdown",
      "metadata": {
        "id": "MhwqgFptWNFI"
      },
      "source": [
        "1. Data quality assessment\n",
        "First we take a good look at our data and get an idea of its overall quality, relevance to our project, and consistency. There are a number of data anomalies and inherent problems to look out for in almost any data set, for example:\n",
        "\n",
        "Mismatched data types: When you collect data from many different sources, it may come to you in different formats.\n",
        "\n",
        "Mixed data values: Perhaps different sources use different descriptors for features – for example, man or male. These value descriptors should all be made uniform.\n",
        "\n",
        "Data outliers: Outliers can have a huge impact on data analysis results.\n",
        "\n",
        "Missing data: Take a look for missing data fields, blank spaces in text, or unanswered survey questions. This could be due to human error or incomplete data. To take care of missing data, you’ll have to perform data cleaning.\n",
        "\n",
        "\n",
        "Since all our data comes from a single source we can conclude that there are no inconsistencies with respect to the quality, data types and data values."
      ]
    },
    {
      "cell_type": "markdown",
      "metadata": {
        "id": "1D7GTsLaZhfD"
      },
      "source": [
        "2. Data cleaning\n",
        "Data cleaning is the process of adding missing data and correcting, repairing, or removing incorrect or irrelevant data from a data set. Dating cleaning is the most important step of preprocessing because it will ensure that your data is ready to go for your downstream needs.\n",
        "\n",
        "Data cleaning will correct all of the inconsistent data you uncovered in your data quality assessment. Depending on the kind of data you’re working with, there are a number of possible cleaners you’ll need to run your data through.\n",
        "\n",
        "Missing data\n",
        "There are a number of ways to correct for missing data, but the two most common are:\n",
        "\n",
        "Ignore the tuples: A tuple is an ordered list or sequence of numbers or entities. If multiple values are missing within tuples, you may simply discard the tuples with that missing information. This is only recommended for large data sets, when a few ignored tuples won’t harm further analysis.\n",
        "\n",
        "Manually fill in missing data: This can be tedious, but is definitely necessary when working with smaller data sets.\n",
        "\n",
        "\n",
        "Let us check our datasets for any missing data."
      ]
    },
    {
      "cell_type": "code",
      "metadata": {
        "id": "BaluTiUgZ3lW"
      },
      "source": [
        "missing_male_data = male_data.isnull()\n",
        "missing_male_data.head()"
      ],
      "execution_count": null,
      "outputs": []
    },
    {
      "cell_type": "code",
      "metadata": {
        "id": "oSI7GfYMbJcd"
      },
      "source": [
        "missing_female_data = female_data.isnull()\n",
        "missing_female_data.head()"
      ],
      "execution_count": null,
      "outputs": []
    },
    {
      "cell_type": "markdown",
      "metadata": {
        "id": "8jkdzZ2OcIt5"
      },
      "source": [
        "we can see from the above values that our datasets contain null values which could be harmful for our analysis.\n",
        "\n",
        "lets see the count of the null values for each columns and then find the overall percentage of those null values.\n"
      ]
    },
    {
      "cell_type": "markdown",
      "metadata": {
        "id": "yNJVOpuxfpnZ"
      },
      "source": [
        "First lets do it for the Male players dataframe"
      ]
    },
    {
      "cell_type": "code",
      "metadata": {
        "id": "DdW5j4C7cHI-"
      },
      "source": [
        "sum_missing_male_data = missing_male_data.sum()\n",
        "sum_missing_male_data"
      ],
      "execution_count": null,
      "outputs": []
    },
    {
      "cell_type": "code",
      "metadata": {
        "id": "7f4ajXSYehsW"
      },
      "source": [
        "len(male_data)"
      ],
      "execution_count": null,
      "outputs": []
    },
    {
      "cell_type": "code",
      "metadata": {
        "id": "BEsLHkC-ey_p"
      },
      "source": [
        "percentage_missing_male_data = (sum_missing_male_data / len(male_data))*100\n",
        "percentage_missing_male_data"
      ],
      "execution_count": null,
      "outputs": []
    },
    {
      "cell_type": "markdown",
      "metadata": {
        "id": "Fdx2r_8Bflt1"
      },
      "source": [
        "Now for the female players dataframe"
      ]
    },
    {
      "cell_type": "code",
      "metadata": {
        "id": "0CJ8Ing8fLrU"
      },
      "source": [
        "sum_missing_female_data = missing_female_data.sum()\n",
        "sum_missing_female_data"
      ],
      "execution_count": null,
      "outputs": []
    },
    {
      "cell_type": "code",
      "metadata": {
        "id": "x5ie04Bgf1Xe"
      },
      "source": [
        "len(female_data)"
      ],
      "execution_count": null,
      "outputs": []
    },
    {
      "cell_type": "code",
      "metadata": {
        "id": "sAcQAyxXf2qa"
      },
      "source": [
        "percentage_missing_female_data = (sum_missing_female_data / len(female_data))*100\n",
        "percentage_missing_female_data"
      ],
      "execution_count": null,
      "outputs": []
    },
    {
      "cell_type": "markdown",
      "metadata": {
        "id": "WxncsGMNgGNx"
      },
      "source": [
        "From the above analysis we can see that there are many columns in both the datafarmes with very high percentage of missing data. We will now drop those columns from the dataframes."
      ]
    },
    {
      "cell_type": "code",
      "metadata": {
        "id": "PPjwL4aoirBE"
      },
      "source": [
        "male_perc = 50.0\n",
        "male_min_count = int(((100-male_perc)/100)*male_data.shape[0] + 1)\n",
        "new_male_data = male_data.dropna( axis=1, \n",
        "                thresh=male_min_count)\n",
        "\n",
        "female_perc = 70.0\n",
        "female_min_count = int(((100-female_perc)/100)*female_data.shape[0] + 1)\n",
        "new_female_data = female_data.dropna(axis =1, thresh = female_min_count)"
      ],
      "execution_count": null,
      "outputs": []
    },
    {
      "cell_type": "code",
      "metadata": {
        "id": "BAp-yAG7mpkx"
      },
      "source": [
        "new_male_data.head()"
      ],
      "execution_count": null,
      "outputs": []
    },
    {
      "cell_type": "code",
      "metadata": {
        "id": "goWiLliOopV4"
      },
      "source": [
        "new_male_data.shape"
      ],
      "execution_count": null,
      "outputs": []
    },
    {
      "cell_type": "code",
      "metadata": {
        "id": "pbDiD4jrmrRC"
      },
      "source": [
        "new_female_data.head()"
      ],
      "execution_count": null,
      "outputs": []
    },
    {
      "cell_type": "code",
      "metadata": {
        "id": "KfjyULPgoxk5"
      },
      "source": [
        "new_female_data.shape"
      ],
      "execution_count": null,
      "outputs": []
    },
    {
      "cell_type": "markdown",
      "metadata": {
        "id": "7B_rs6r7pg9L"
      },
      "source": [
        "There are some columns with missing data which are useful for our analysis. Let us fill those columns with either a string or mean of the values in those columns."
      ]
    },
    {
      "cell_type": "code",
      "metadata": {
        "id": "RUW7bnH4u5E_"
      },
      "source": [
        "percentage_missing_male_data"
      ],
      "execution_count": null,
      "outputs": []
    },
    {
      "cell_type": "code",
      "metadata": {
        "id": "h8Yi-GKOwG5l"
      },
      "source": [
        "new_male_data.surface.fillna('Not Mentioned', inplace=True)\n",
        "new_male_data.tail()"
      ],
      "execution_count": null,
      "outputs": []
    },
    {
      "cell_type": "code",
      "metadata": {
        "id": "XU7eN8LIwiIT"
      },
      "source": [
        "frequency = new_male_data['surface'].value_counts(dropna=False)\n",
        "frequency"
      ],
      "execution_count": null,
      "outputs": []
    },
    {
      "cell_type": "code",
      "metadata": {
        "id": "hEpTbXyY3rb0"
      },
      "source": [
        "mean_age = new_male_data['winner_ht'].mean()"
      ],
      "execution_count": null,
      "outputs": []
    },
    {
      "cell_type": "code",
      "metadata": {
        "id": "-qtlwc4G38OH"
      },
      "source": [
        ""
      ],
      "execution_count": null,
      "outputs": []
    }
  ]
}